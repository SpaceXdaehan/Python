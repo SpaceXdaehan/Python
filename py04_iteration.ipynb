{
  "nbformat": 4,
  "nbformat_minor": 0,
  "metadata": {
    "colab": {
      "provenance": [],
      "toc_visible": true,
      "authorship_tag": "ABX9TyMycToBnQ7+6Y9niWAUIIqO"
    },
    "kernelspec": {
      "name": "python3",
      "display_name": "Python 3"
    },
    "language_info": {
      "name": "python"
    }
  },
  "cells": [
    {
      "cell_type": "markdown",
      "source": [
        "# for 반복문\n",
        "\n",
        "```\n",
        "for 변수 in iterable_type:\n",
        "  반복해서 실행할 코드 블록\n",
        "\n",
        "* iterable_type: 반복 가능한 자료타입\n",
        "  * range, list, tuple, dict, set, str, ...\n",
        "* `range()` 함수:\n",
        "  * `range(stop)`: 0 <= x < stop 범위의 1씩 증가하는 정수들을 차례로 반환.\n",
        "  \n",
        "  * `range(start, stop)`: start <= x < stop 범위의 1씩 증가하는 정수들을 차례로 반환.\n",
        "\n",
        "  *`range(start, stop, step)`:\n",
        "    * step > 0: start <= x < stop 범위의 step 만큼씩 증가하는 정수들을 차례로 반환.\n",
        "    * step < 0: start >= x > stop 범위의 step 만큼씩 감소하는 정수들을 차례로 반환.\n",
        "```"
      ],
      "metadata": {
        "id": "s0807J3xL1Rf"
      }
    },
    {
      "cell_type": "code",
      "execution_count": null,
      "metadata": {
        "colab": {
          "base_uri": "https://localhost:8080/"
        },
        "id": "9ddpigZMLtr1",
        "outputId": "470c08f8-2ab6-4970-8d8f-26380bd2c56d"
      },
      "outputs": [
        {
          "output_type": "stream",
          "name": "stdout",
          "text": [
            "01234"
          ]
        }
      ],
      "source": [
        "for x in range(5):  # 0 <= x < 5\n",
        "  print(x, end='')"
      ]
    },
    {
      "cell_type": "code",
      "source": [
        "for x in range(1, 6):\n",
        "  print(x, end='')"
      ],
      "metadata": {
        "colab": {
          "base_uri": "https://localhost:8080/"
        },
        "id": "5EML7zZZPFOz",
        "outputId": "bd5db5ad-2162-46ec-bcbb-5622e2578259"
      },
      "execution_count": null,
      "outputs": [
        {
          "output_type": "stream",
          "name": "stdout",
          "text": [
            "12345"
          ]
        }
      ]
    },
    {
      "cell_type": "code",
      "source": [
        "for x in range(0, 11, 2):\n",
        "  print(x, end='')"
      ],
      "metadata": {
        "colab": {
          "base_uri": "https://localhost:8080/"
        },
        "id": "mBHUFOqxPJ6k",
        "outputId": "8f2ec984-5342-4ac6-9f41-71a10a87bbb0"
      },
      "execution_count": null,
      "outputs": [
        {
          "output_type": "stream",
          "name": "stdout",
          "text": [
            "0246810"
          ]
        }
      ]
    },
    {
      "cell_type": "code",
      "source": [
        "for x in range(10, 0, -2):\n",
        "  print(x, end='')"
      ],
      "metadata": {
        "colab": {
          "base_uri": "https://localhost:8080/"
        },
        "id": "oN12fjy6Pu9W",
        "outputId": "62eb01b7-4612-46a4-fd74-4df424210f2e"
      },
      "execution_count": null,
      "outputs": [
        {
          "output_type": "stream",
          "name": "stdout",
          "text": [
            "108642"
          ]
        }
      ]
    },
    {
      "cell_type": "markdown",
      "source": [
        "중첩 반복문\n",
        "\n",
        "* for x in iterable1:\n",
        "  * for n in iterable2:\n",
        "    * 코드 블록"
      ],
      "metadata": {
        "id": "_f2BiKXNQbZe"
      }
    },
    {
      "cell_type": "markdown",
      "source": [
        "문자열에서 사용 가능한 산술 연산자:\n",
        "\n",
        "* 문자열 `+` 문자열: 문자열 이어붙이기(concatenate).\n",
        "* 문자열 `*` 정수: 문자열 (정수만큼)반복해서 복사하기."
      ],
      "metadata": {
        "id": "VhSZekodTE5-"
      }
    },
    {
      "cell_type": "code",
      "source": [
        "for x in range(2, 10):\n",
        "  for n in range(1, 10):\n",
        "    print(x, 'x', n, '=', x * n)\n",
        "  print('\\n')"
      ],
      "metadata": {
        "id": "D-Q0uKZBQOze"
      },
      "execution_count": null,
      "outputs": []
    },
    {
      "cell_type": "markdown",
      "source": [
        "# break와 continue\n",
        "\n",
        "* `break`: 반복(iteration)을 종료. break가 포함된 가장 가까운 반복문을 빠져나옴.\n",
        "* `continue`: 반복문 내부의 실행을 멈추고, 그 다음 iteration을 계속해서 수행."
      ],
      "metadata": {
        "id": "dY1IVNGfT36m"
      }
    },
    {
      "cell_type": "code",
      "source": [
        "for x in range(5):\n",
        "  if x == 2:\n",
        "    break\n",
        "  print(x)"
      ],
      "metadata": {
        "colab": {
          "base_uri": "https://localhost:8080/"
        },
        "id": "gB-k-L5nUdE_",
        "outputId": "c4781479-b9d5-4c84-87d2-f6f71673bc99"
      },
      "execution_count": null,
      "outputs": [
        {
          "output_type": "stream",
          "name": "stdout",
          "text": [
            "0\n",
            "1\n"
          ]
        }
      ]
    },
    {
      "cell_type": "code",
      "source": [
        "for x in range(5):\n",
        "  if x == 2:\n",
        "    continue\n",
        "  print(x)"
      ],
      "metadata": {
        "colab": {
          "base_uri": "https://localhost:8080/"
        },
        "id": "a5xDyC3gVQ2d",
        "outputId": "4583d4aa-f984-4309-e1e8-4571084a24e8"
      },
      "execution_count": null,
      "outputs": [
        {
          "output_type": "stream",
          "name": "stdout",
          "text": [
            "0134"
          ]
        }
      ]
    },
    {
      "cell_type": "markdown",
      "source": [
        "다음과 같이 출력.\n",
        "\n",
        "```\n",
        "2 x 1 = 2\n",
        "2 x 2 = 4\n",
        "---------\n",
        "3 x 1 = 3\n",
        "3 x 2 = 6\n",
        "3 x 3 = 9\n",
        ".\n",
        ".\n",
        ".\n",
        ".\n",
        "```"
      ],
      "metadata": {
        "id": "MDd3uvQxWTXl"
      }
    },
    {
      "cell_type": "code",
      "source": [
        "for x in range(2, 10):\n",
        "  for y in range(1, 10):\n",
        "    print(x, 'x', y, '=', x * y)\n",
        "    if x == y:\n",
        "      break\n",
        "  print('\\n')"
      ],
      "metadata": {
        "id": "oP_fGq2sWShF"
      },
      "execution_count": null,
      "outputs": []
    },
    {
      "cell_type": "code",
      "source": [
        "# break문을 쓰지 않고 출력하기\n",
        "\n",
        "for x in range(2, 6):\n",
        "  for y in range(1, x + 1):\n",
        "    print(f'{x} x {y} = {x * y}')\n",
        "  print('-' * 10)"
      ],
      "metadata": {
        "colab": {
          "base_uri": "https://localhost:8080/"
        },
        "id": "Z55xZyLqb2HW",
        "outputId": "ac235a61-c693-448d-915a-e4a7402d1416"
      },
      "execution_count": null,
      "outputs": [
        {
          "output_type": "stream",
          "name": "stdout",
          "text": [
            "2 x 1 = 2\n",
            "2 x 2 = 4\n",
            "----------\n",
            "3 x 1 = 3\n",
            "3 x 2 = 6\n",
            "3 x 3 = 9\n",
            "----------\n",
            "4 x 1 = 4\n",
            "4 x 2 = 8\n",
            "4 x 3 = 12\n",
            "4 x 4 = 16\n",
            "----------\n",
            "5 x 1 = 5\n",
            "5 x 2 = 10\n",
            "5 x 3 = 15\n",
            "5 x 4 = 20\n",
            "5 x 5 = 25\n",
            "----------\n"
          ]
        }
      ]
    },
    {
      "cell_type": "markdown",
      "source": [
        "# while 반복문\n",
        "\n",
        "```\n",
        "[초기화 문장]\n",
        "while 조건식:\n",
        "  반복할 코드 블록\n",
        "  [조건(변수)를 변경하는 문장]\n",
        "  \n",
        "  * 파이썬은  ++, -- 연산자는 없음.\n",
        "```"
      ],
      "metadata": {
        "id": "T_2ijDpjdDuF"
      }
    },
    {
      "cell_type": "markdown",
      "source": [
        "다음과 같이 출력하는 코드를 while문으로 출력.\n",
        "\n",
        "```\n",
        "*\n",
        "**\n",
        "***\n",
        "****\n",
        "*****\n",
        "```\n"
      ],
      "metadata": {
        "id": "-eX-PZUBdlaN"
      }
    },
    {
      "cell_type": "code",
      "source": [
        "x = 1\n",
        "while x < 6:\n",
        "   print('*' * x)\n",
        "   x += 1"
      ],
      "metadata": {
        "colab": {
          "base_uri": "https://localhost:8080/"
        },
        "id": "T9ozs7QPdsV2",
        "outputId": "a0f41319-d07a-47a5-f57c-2f6e585e603e"
      },
      "execution_count": null,
      "outputs": [
        {
          "output_type": "stream",
          "name": "stdout",
          "text": [
            "*\n",
            "**\n",
            "***\n",
            "****\n",
            "*****\n"
          ]
        }
      ]
    },
    {
      "cell_type": "code",
      "source": [
        "x = 5\n",
        "while x >= 1:\n",
        "  print('*' * x)\n",
        "  x -= 1"
      ],
      "metadata": {
        "colab": {
          "base_uri": "https://localhost:8080/"
        },
        "id": "KRtG6mMYfI8k",
        "outputId": "663cabfd-1e82-4ac2-c06b-58f0478d71b5"
      },
      "execution_count": null,
      "outputs": [
        {
          "output_type": "stream",
          "name": "stdout",
          "text": [
            "*****\n",
            "****\n",
            "***\n",
            "**\n",
            "*\n"
          ]
        }
      ]
    },
    {
      "cell_type": "markdown",
      "source": [
        "1 이상 10 미만의 홀수들을 출력하는 코드를 while문으로 작성."
      ],
      "metadata": {
        "id": "23fCaCTBgm9V"
      }
    },
    {
      "cell_type": "code",
      "source": [
        "x = 1\n",
        "while x <= 9:\n",
        "  print(x)\n",
        "  x += 2"
      ],
      "metadata": {
        "colab": {
          "base_uri": "https://localhost:8080/"
        },
        "id": "FZwjx1K4gsdk",
        "outputId": "666a4abc-dcd4-4fd1-ef5f-c02989d0799c"
      },
      "execution_count": null,
      "outputs": [
        {
          "output_type": "stream",
          "name": "stdout",
          "text": [
            "1\n",
            "3\n",
            "5\n",
            "7\n",
            "9\n"
          ]
        }
      ]
    },
    {
      "cell_type": "code",
      "source": [
        "x = 1\n",
        "while x <= 9:\n",
        "  print('' + '*' * x)\n",
        "  x += 2"
      ],
      "metadata": {
        "colab": {
          "base_uri": "https://localhost:8080/"
        },
        "id": "2ePs0j-kf4Wk",
        "outputId": "0b77b4c0-181c-4568-ec2e-23bdb9fd2a09"
      },
      "execution_count": null,
      "outputs": [
        {
          "output_type": "stream",
          "name": "stdout",
          "text": [
            "*\n",
            "***\n",
            "*****\n",
            "*******\n",
            "*********\n"
          ]
        }
      ]
    }
  ]
}