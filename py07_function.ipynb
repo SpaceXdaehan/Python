{
  "nbformat": 4,
  "nbformat_minor": 0,
  "metadata": {
    "colab": {
      "provenance": [],
      "toc_visible": true,
      "authorship_tag": "ABX9TyNJrFmGrs6aDDM0LiqQRuwP",
      "include_colab_link": true
    },
    "kernelspec": {
      "name": "python3",
      "display_name": "Python 3"
    },
    "language_info": {
      "name": "python"
    }
  },
  "cells": [
    {
      "cell_type": "markdown",
      "metadata": {
        "id": "view-in-github",
        "colab_type": "text"
      },
      "source": [
        "<a href=\"https://colab.research.google.com/github/SpaceXdaehan/Python/blob/main/py07_function.ipynb\" target=\"_parent\"><img src=\"https://colab.research.google.com/assets/colab-badge.svg\" alt=\"Open In Colab\"/></a>"
      ]
    },
    {
      "cell_type": "markdown",
      "source": [
        "# Fuction(함수)"
      ],
      "metadata": {
        "id": "REdiudp6FDrX"
      }
    },
    {
      "cell_type": "markdown",
      "source": [
        "* fuction(함수): 기능을 수행하는 코드 블록.\n",
        "* argument: 함수를 호출하는 곳에서 함수에게 전달하는 값.\n",
        "* parameter: argument를 저장하기 위해서 함수 선언부에서 선언하는 지역변수.\n",
        "* return value: 함수가 기능의 수행 결과로 리턴하는 값.\n",
        "  * return value가 있는 함수\n",
        "  * return value가 없는 함수\n",
        "* 파이썬 함수 정의 방법:\n",
        "  ```\n",
        "  def function_name([param, ...]):\n",
        "    [\"\"\"문서화 주석 - 함수 기능 설명, 파라미터 설명, 리턴 값 설명\"\"\"]\n",
        "    => 함수 기능 구현\n",
        "    [return 값(return 값 없으면 생략 가능)]\n",
        "  ```\n",
        "* return value가 없는 경우에,\n",
        "  * return 문장을 생략.\n",
        "  * return None을 명시할 수도 있음(없음을 리턴한다)."
      ],
      "metadata": {
        "id": "dDkIq_EPFIIA"
      }
    },
    {
      "cell_type": "code",
      "execution_count": null,
      "metadata": {
        "id": "f6MC3T50E6Fw"
      },
      "outputs": [],
      "source": [
        "def subtract(x, y):\n",
        "  \"\"\" 2개의 숫자 x, y를 전달 받아서 x - y 결과를 리턴하는 함수.\n",
        "  \"\"\"\n",
        "  return x - y"
      ]
    },
    {
      "cell_type": "code",
      "source": [
        "result = subtract(10, 5)\n",
        "result"
      ],
      "metadata": {
        "colab": {
          "base_uri": "https://localhost:8080/"
        },
        "id": "IN7_I5VAIEa3",
        "outputId": "54d22e21-ee7d-46ff-f288-87f2324b75e8"
      },
      "execution_count": null,
      "outputs": [
        {
          "output_type": "execute_result",
          "data": {
            "text/plain": [
              "5"
            ]
          },
          "metadata": {},
          "execution_count": 5
        }
      ]
    },
    {
      "cell_type": "code",
      "source": [
        "def repeat_message(message, n):\n",
        "  \"\"\" 문자열(message)과 정수(n)을 전달받아서, message를 n번 출력하는 함수.\n",
        "  \"\"\"\n",
        "  for _ in range(n):\n",
        "    print(message)\n",
        "  return None # 리턴 값이 없으면 보통 return문을 생략하지만 return None으로 명시하기도 함."
      ],
      "metadata": {
        "id": "kI_GfP7JI-B9"
      },
      "execution_count": null,
      "outputs": []
    },
    {
      "cell_type": "code",
      "source": [
        "repeat_message('파이썬', 3)"
      ],
      "metadata": {
        "colab": {
          "base_uri": "https://localhost:8080/"
        },
        "id": "R1-lFrt1JZSH",
        "outputId": "5861ec74-a8f4-46a6-86bf-0d9b7fc03f6d"
      },
      "execution_count": null,
      "outputs": [
        {
          "output_type": "stream",
          "name": "stdout",
          "text": [
            "파이썬\n",
            "파이썬\n",
            "파이썬\n"
          ]
        }
      ]
    },
    {
      "cell_type": "markdown",
      "source": [
        "#Ex 1.\n",
        "* 함수 이름: make_list\n",
        "* 기능: start 이상 end 미만의 정수 난수 n개를 갖는 리스트를 반환하는 함수.\n",
        "\n",
        "#Ex 2.\n",
        "* 함수 이름: calc_sum\n",
        "* 기능: 숫자들의 리스트를 전달받아서, 리스트의 모든 원소들의 합을 리턴하는 함수.\n",
        "\n",
        "#Ex 3.\n",
        "* 함수 이름: calc_mean\n",
        "* 기능: 숫자들의 리스트를 전달받아서, 리스트의 원소들의 평균을 리턴하는 함수.\n",
        "\n",
        "#Ex 4.\n",
        "* 함수 이름: calc_var\n",
        "* 기능: 숫자들의 리스트를 전달받아서, 리스트의 원소들의 분산(variance)을 리턴하는 함수.\n",
        "  * 분산 = (값 - 평균)**2 들의 평균"
      ],
      "metadata": {
        "id": "EmPy74SVLr3-"
      }
    },
    {
      "cell_type": "code",
      "source": [
        "import random"
      ],
      "metadata": {
        "id": "amA7-4rcJ2uX"
      },
      "execution_count": null,
      "outputs": []
    },
    {
      "cell_type": "code",
      "source": [
        "# Ex1.\n",
        "\n",
        "def make_list(start, end, n):\n",
        "    numbers = [random.randrange(start, end) for _ in range(n)]\n",
        "    return numbers"
      ],
      "metadata": {
        "id": "j5-o5rK2Mpi5"
      },
      "execution_count": null,
      "outputs": []
    },
    {
      "cell_type": "code",
      "source": [
        "make_list(0, 10, 5)"
      ],
      "metadata": {
        "colab": {
          "base_uri": "https://localhost:8080/"
        },
        "id": "sD-KLmXLOfd7",
        "outputId": "b15bc97a-2bc3-431b-e079-b95afd8739d5"
      },
      "execution_count": null,
      "outputs": [
        {
          "output_type": "execute_result",
          "data": {
            "text/plain": [
              "[6, 2, 4, 7, 3]"
            ]
          },
          "metadata": {},
          "execution_count": 9
        }
      ]
    },
    {
      "cell_type": "code",
      "source": [
        "# Ex 2.\n",
        "\n",
        "def calc_sum(num_list):\n",
        "    total = 0\n",
        "    for x in num_list:\n",
        "        total += x\n",
        "\n",
        "    return total"
      ],
      "metadata": {
        "id": "xw01BB4yRirh"
      },
      "execution_count": null,
      "outputs": []
    },
    {
      "cell_type": "code",
      "source": [
        "numbers = make_list(0, 10, 5)\n",
        "print(numbers)\n",
        "total = calc_sum(numbers)\n",
        "print(total)"
      ],
      "metadata": {
        "colab": {
          "base_uri": "https://localhost:8080/"
        },
        "id": "v9r-IsuZ4RBg",
        "outputId": "fa5b50c1-6d09-4a8f-da03-38e6e6e42544"
      },
      "execution_count": null,
      "outputs": [
        {
          "output_type": "stream",
          "name": "stdout",
          "text": [
            "[4, 8, 0, 3, 3]\n",
            "18\n"
          ]
        }
      ]
    },
    {
      "cell_type": "code",
      "source": [
        "# Ex 3.\n",
        "\n",
        "def calc_mean(num_list):\n",
        "    mean = calc_sum(num_list) / len(num_list)\n",
        "    return mean"
      ],
      "metadata": {
        "id": "vIAGkrsfUw2V"
      },
      "execution_count": null,
      "outputs": []
    },
    {
      "cell_type": "code",
      "source": [
        "calc_mean(numbers)"
      ],
      "metadata": {
        "colab": {
          "base_uri": "https://localhost:8080/"
        },
        "id": "X4rQY3d94XGP",
        "outputId": "f2a37678-160f-4ce7-c7d5-59ee7904d904"
      },
      "execution_count": null,
      "outputs": [
        {
          "output_type": "execute_result",
          "data": {
            "text/plain": [
              "3.6"
            ]
          },
          "metadata": {},
          "execution_count": 16
        }
      ]
    },
    {
      "cell_type": "code",
      "source": [
        "# Ex 4.\n",
        "\n",
        "def calc_var(num_list):\n",
        "    mean = calc_mean(num_list)\n",
        "    squares = [(x - mean) ** 2 for x in num_list]\n",
        "    variance = calc_mean(squares)\n",
        "    return variance"
      ],
      "metadata": {
        "id": "7RT2_nc14le3"
      },
      "execution_count": null,
      "outputs": []
    },
    {
      "cell_type": "code",
      "source": [
        "calc_var(numbers)"
      ],
      "metadata": {
        "colab": {
          "base_uri": "https://localhost:8080/"
        },
        "id": "7qd_Mqja4oXA",
        "outputId": "fa851dbf-a182-4c3e-d6f8-e81abc95ee64"
      },
      "execution_count": null,
      "outputs": [
        {
          "output_type": "execute_result",
          "data": {
            "text/plain": [
              "6.640000000000001"
            ]
          },
          "metadata": {},
          "execution_count": 18
        }
      ]
    },
    {
      "cell_type": "code",
      "source": [
        "# Ex 5.\n",
        "\n",
        "scores1 = [3, 4, 5, 6, 7]\n",
        "scores2 = [0, 1, 5, 9, 10]\n",
        "mean1 = calc_mean(scores1)\n",
        "mean2 = calc_mean(scores2)\n",
        "print(f'mean1 = {mean1}')\n",
        "print(f'mean2 = {mean2}')"
      ],
      "metadata": {
        "colab": {
          "base_uri": "https://localhost:8080/"
        },
        "id": "3aSDSsjQ4tyo",
        "outputId": "4382173b-0b7a-4a1a-de72-7aba8462f72c"
      },
      "execution_count": null,
      "outputs": [
        {
          "output_type": "stream",
          "name": "stdout",
          "text": [
            "mean1 = 5.0\n",
            "mean2 = 5.0\n"
          ]
        }
      ]
    },
    {
      "cell_type": "code",
      "source": [
        "print(calc_var(scores1))\n",
        "print(calc_var(scores2))"
      ],
      "metadata": {
        "colab": {
          "base_uri": "https://localhost:8080/"
        },
        "id": "1WAx6nIq4zVg",
        "outputId": "6bfaa87e-5728-4372-b92f-6dda130e81c2"
      },
      "execution_count": null,
      "outputs": [
        {
          "output_type": "stream",
          "name": "stdout",
          "text": [
            "2.0\n",
            "16.4\n"
          ]
        }
      ]
    },
    {
      "cell_type": "code",
      "source": [
        "# 로또번호\n",
        "\n",
        "def make_lotto_list():\n",
        "    lottos = []\n",
        "    for _ in range(5):\n",
        "        lotto = set()  # set\n",
        "        while True:\n",
        "            lotto.add(random.randrange(1, 46))\n",
        "            if len(lotto) == 6:\n",
        "                break\n",
        "        lottos.append(lotto)\n",
        "    return lottos"
      ],
      "metadata": {
        "id": "_KyhnMM73xdQ"
      },
      "execution_count": null,
      "outputs": []
    },
    {
      "cell_type": "code",
      "source": [
        "make_lotto_list()"
      ],
      "metadata": {
        "colab": {
          "base_uri": "https://localhost:8080/"
        },
        "id": "2uZESr463z_O",
        "outputId": "1da7f8eb-cd7e-4ce9-fa09-17cb80107867"
      },
      "execution_count": null,
      "outputs": [
        {
          "output_type": "execute_result",
          "data": {
            "text/plain": [
              "[{12, 21, 28, 31, 37, 38},\n",
              " {5, 8, 10, 12, 24, 44},\n",
              " {2, 6, 14, 18, 26, 41},\n",
              " {12, 17, 24, 31, 40, 45},\n",
              " {6, 11, 26, 30, 31, 42}]"
            ]
          },
          "metadata": {},
          "execution_count": 5
        }
      ]
    },
    {
      "cell_type": "markdown",
      "source": [
        "파이썬은 2개 이상의 값을 리턴하는 함수를 정의할 수 있다. 함수를 호출한 곳에서는 리턴 값을 튜플로 취급하면 됨.\n",
        "\n",
        "```\n",
        "x, y = (1, 2) # tuple의 decomposition기능(성분 분해)\n",
        "```"
      ],
      "metadata": {
        "id": "GhGUtzE04_H4"
      }
    },
    {
      "cell_type": "code",
      "source": [
        "def plus_and_minus(x, y):\n",
        "  return x + y, x - y"
      ],
      "metadata": {
        "id": "Iy2Grs5U5vZ5"
      },
      "execution_count": null,
      "outputs": []
    },
    {
      "cell_type": "code",
      "source": [
        "result = plus_and_minus(1, 2)\n",
        "result"
      ],
      "metadata": {
        "colab": {
          "base_uri": "https://localhost:8080/"
        },
        "id": "x2DJkUh153pW",
        "outputId": "ca23e411-807c-4077-8d3f-314601adf947"
      },
      "execution_count": null,
      "outputs": [
        {
          "output_type": "execute_result",
          "data": {
            "text/plain": [
              "(3, -1)"
            ]
          },
          "metadata": {},
          "execution_count": 23
        }
      ]
    },
    {
      "cell_type": "code",
      "source": [
        "plus, minus = plus_and_minus(1, 2)\n",
        "print(plus, minus)"
      ],
      "metadata": {
        "colab": {
          "base_uri": "https://localhost:8080/"
        },
        "id": "PED7PA4059KG",
        "outputId": "84fe929f-b684-4f62-a465-c3c388b7407b"
      },
      "execution_count": null,
      "outputs": [
        {
          "output_type": "stream",
          "name": "stdout",
          "text": [
            "3 -1\n"
          ]
        }
      ]
    },
    {
      "cell_type": "markdown",
      "source": [
        "숫자들의 리스트를 전달받아서, 최댓값과 최솟값을 리턴하는 함수를 정의"
      ],
      "metadata": {
        "id": "Q4D0SSGC6h6k"
      }
    },
    {
      "cell_type": "code",
      "source": [
        "def find_max_and_min(num_list):\n",
        "  max = num_list[0] # 리스트의 첫번째 원소를 최댓값이라고 가정.\n",
        "  min = num_list[0] # 리스트의 첫번쨰 원소를 최솟값이라고 가정.\n",
        "  for x in num_list: # 리스트의 원소들을 처음부터 끝까지 순서대로 반복하면서.\n",
        "    if(x > max): # 리스트의 있는 값이 max보다 크다면.\n",
        "      max = x # 리스트에서 찾은 값으로 max를 변경.\n",
        "    if(x < min): #리스트에 있는 값이 최솟값보다 작다면.\n",
        "      min = x # 리스트에서 찾은 값으로 min을 변경.\n",
        "  return max, min"
      ],
      "metadata": {
        "id": "QZgzOndQ6f7y"
      },
      "execution_count": null,
      "outputs": []
    },
    {
      "cell_type": "code",
      "source": [
        "numbers = make_list(0, 100, 10)\n",
        "print(numbers)\n",
        "max, min = find_max_and_min(numbers)\n",
        "print(f'max = {max}, min = {min}')"
      ],
      "metadata": {
        "colab": {
          "base_uri": "https://localhost:8080/"
        },
        "id": "5JSy7V8g9QJQ",
        "outputId": "755f1ff5-f604-48d9-c80d-5c56cb1a23cc"
      },
      "execution_count": null,
      "outputs": [
        {
          "output_type": "stream",
          "name": "stdout",
          "text": [
            "[8, 61, 56, 5, 42, 23, 60, 26, 49, 29]\n",
            "max = 61, min = 5\n"
          ]
        }
      ]
    },
    {
      "cell_type": "markdown",
      "source": [
        "숫자들의 리스트를 전달받아서 최댓값과 최솟값의 인덱스(위치)를 리턴하는 함수를 정의. 최댓값이 2개 이상인 경우, 먼저 나오는 최댓값의 인덱스를 리턴."
      ],
      "metadata": {
        "id": "zldiuhlo9tgI"
      }
    },
    {
      "cell_type": "code",
      "source": [
        "def find_max_and_index(num_list):\n",
        "    max = num_list[0]\n",
        "    max_index = 0\n",
        "    for i, v in enumerate(num_list):\n",
        "        if (v > max):\n",
        "            max = v\n",
        "            max_index = i\n",
        "\n",
        "    return max, max_index"
      ],
      "metadata": {
        "id": "IdhTxw-y9U8R"
      },
      "execution_count": null,
      "outputs": []
    },
    {
      "cell_type": "code",
      "source": [
        "numbers = [1, 100, 20, 100, 0, -1, 99]\n",
        "find_max_and_index(numbers)"
      ],
      "metadata": {
        "colab": {
          "base_uri": "https://localhost:8080/"
        },
        "id": "JZdaNnv8_cbT",
        "outputId": "6084d41e-af88-4a07-e09d-965a842a06a8"
      },
      "execution_count": null,
      "outputs": [
        {
          "output_type": "execute_result",
          "data": {
            "text/plain": [
              "(100, 1)"
            ]
          },
          "metadata": {},
          "execution_count": 32
        }
      ]
    },
    {
      "cell_type": "code",
      "source": [
        "def find_max_and_index(num_list):\n",
        "  max = num_list[0]\n",
        "  max_index = 0\n",
        "  for i, v in enumerate"
      ],
      "metadata": {
        "id": "p6tX3IBGCshH"
      },
      "execution_count": null,
      "outputs": []
    },
    {
      "cell_type": "markdown",
      "source": [
        "# Default argument(기본 인수)\n",
        "\n",
        "* 함수를 정의할 때 파라미터에 설정된 기본값.\n",
        "  * 함수를 호출할 때 파라미터에 값을 전달하지 않으면, 기본값이 사용됨.\n",
        "  * 함수를 호출할 떄 파라미터에 값을 전달하면, 기본값은 무시되고 전달한 아규먼트가 사용됨.\n",
        "* **(주의)** 함수를 정의할 떄, default argument를 갖는 파라미터들은 반드시 default argument를 갖지 않는 파라미터를 뒤에 선언해야함!\n",
        "  * 기본값을 갖지 않는 파라미터들을 먼저 선언하고, 기본값을 갖는 파라미터들을 뒤에 선언해야함."
      ],
      "metadata": {
        "id": "dsYdC6aNEKxe"
      }
    },
    {
      "cell_type": "code",
      "source": [
        "def repeat_message2(msg, n=1):\n",
        "  for _ in range(n):\n",
        "    print(msg)"
      ],
      "metadata": {
        "id": "nvoiU3_6FSLW"
      },
      "execution_count": null,
      "outputs": []
    },
    {
      "cell_type": "code",
      "source": [
        "repeat_message2('배고프다')"
      ],
      "metadata": {
        "colab": {
          "base_uri": "https://localhost:8080/"
        },
        "id": "W_qNl13PFsUz",
        "outputId": "88b62671-c490-4949-80ab-0c5036230892"
      },
      "execution_count": null,
      "outputs": [
        {
          "output_type": "stream",
          "name": "stdout",
          "text": [
            "배고프다\n"
          ]
        }
      ]
    },
    {
      "cell_type": "code",
      "source": [
        "repeat_message2('시간이 빠르데', 3)"
      ],
      "metadata": {
        "colab": {
          "base_uri": "https://localhost:8080/"
        },
        "id": "2fnyxe0gF9YA",
        "outputId": "2e091334-b260-4dbf-d5e0-52a6c27600aa"
      },
      "execution_count": null,
      "outputs": [
        {
          "output_type": "stream",
          "name": "stdout",
          "text": [
            "시간이 빠르데\n",
            "시간이 빠르데\n",
            "시간이 빠르데\n"
          ]
        }
      ]
    },
    {
      "cell_type": "markdown",
      "source": [
        "# argument 전달 방법:\n",
        "\n",
        "* positional argument: 함수 정의에서 선언된 파라미터 순서대로 아규먼트들을 전달하는 방법.\n",
        "* keyword argument: `param = value` 이런 형식으로 아규먼트들을 전달하는 방법.\n",
        "  * keyword argument 방식에서는 파라미터의 순서를 지키지 않아도 됨.\n",
        "* **(주의)** 함수를 호출할 때 positional 방식과 keyword 방식을 함께 사용하는 경우에는, 반드시 positional argument 방식을 먼저 사용하고, keyword argument는 나중에 사용해야함."
      ],
      "metadata": {
        "id": "c1ISAqGZHMwO"
      }
    },
    {
      "cell_type": "code",
      "source": [
        "def minus(x, y):\n",
        "  return x - y"
      ],
      "metadata": {
        "id": "N6Y9BMFCGQ_s"
      },
      "execution_count": null,
      "outputs": []
    },
    {
      "cell_type": "code",
      "source": [
        "minus(10, 3) # positional argument(순서대로 전달하는 아규먼트다, 위치 그대로 전달하는 아규먼트다.)"
      ],
      "metadata": {
        "colab": {
          "base_uri": "https://localhost:8080/"
        },
        "id": "HnkqVVJpJDYe",
        "outputId": "abc7d945-2302-4b39-cda2-2753139c6dd6"
      },
      "execution_count": null,
      "outputs": [
        {
          "output_type": "execute_result",
          "data": {
            "text/plain": [
              "7"
            ]
          },
          "metadata": {},
          "execution_count": 42
        }
      ]
    },
    {
      "cell_type": "code",
      "source": [
        "minus(x=10, y=3) # keyword argument"
      ],
      "metadata": {
        "colab": {
          "base_uri": "https://localhost:8080/"
        },
        "id": "rMbAEzAWJE-o",
        "outputId": "5d48d793-144c-4fe3-f32b-22e7a2553cf2"
      },
      "execution_count": null,
      "outputs": [
        {
          "output_type": "execute_result",
          "data": {
            "text/plain": [
              "7"
            ]
          },
          "metadata": {},
          "execution_count": 43
        }
      ]
    },
    {
      "cell_type": "code",
      "source": [
        "minus(y=10, x=3) # keyword argument는 파라미터 순서(position)를 지키지 않아도 됨."
      ],
      "metadata": {
        "colab": {
          "base_uri": "https://localhost:8080/"
        },
        "id": "soFK0HYaJk1_",
        "outputId": "d62bb58b-4684-4787-f6e4-d73bdbe8a178"
      },
      "execution_count": null,
      "outputs": [
        {
          "output_type": "execute_result",
          "data": {
            "text/plain": [
              "-7"
            ]
          },
          "metadata": {},
          "execution_count": 44
        }
      ]
    },
    {
      "cell_type": "code",
      "source": [
        "minus(10, y=3) # positional argument 방식과 keyword argument 방식을 함께 사용하는 경우 무조건 positional argument 방식을 먼저 사용"
      ],
      "metadata": {
        "colab": {
          "base_uri": "https://localhost:8080/"
        },
        "id": "nNleCfBHKGgC",
        "outputId": "d922bf00-b434-488f-fc03-9ba54dd2c064"
      },
      "execution_count": null,
      "outputs": [
        {
          "output_type": "execute_result",
          "data": {
            "text/plain": [
              "7"
            ]
          },
          "metadata": {},
          "execution_count": 45
        }
      ]
    },
    {
      "cell_type": "code",
      "source": [
        "minus(x=10, 3) # keyword argument가 먼저 오면 오류!"
      ],
      "metadata": {
        "colab": {
          "base_uri": "https://localhost:8080/",
          "height": 137
        },
        "id": "VzUULWwuKSJV",
        "outputId": "b5c06383-377f-4a14-aeeb-dc3388f48d8e"
      },
      "execution_count": null,
      "outputs": [
        {
          "output_type": "error",
          "ename": "SyntaxError",
          "evalue": "ignored",
          "traceback": [
            "\u001b[0;36m  File \u001b[0;32m\"<ipython-input-46-300ae2810c57>\"\u001b[0;36m, line \u001b[0;32m1\u001b[0m\n\u001b[0;31m    minus(x=10, 3)\u001b[0m\n\u001b[0m                 ^\u001b[0m\n\u001b[0;31mSyntaxError\u001b[0m\u001b[0;31m:\u001b[0m positional argument follows keyword argument\n"
          ]
        }
      ]
    },
    {
      "cell_type": "markdown",
      "source": [
        "# 가변길이 인수(variable-length argument) (아규먼트의 개수가 정해져있지 않다).\n",
        "\n",
        "* 파이썬은 함수를 호출할 때, 전달하는 argument의 개수가 임의로 변할 수 있는 것.\n",
        "  * argument를 전달하지 않아도 됨.\n",
        "* 함수를 정의할 때 파라미터 이름 앞에 `*`를 한개 사용하면 가변길이 인수를 전달받을 수 있음.\n",
        "* 함수 내부에서는 가변길이 인수는 튜플로 취급.\n",
        "  * for-in 반복문 사용가능.\n",
        "  * 인덱스 사용 가능.\n",
        "* **(주의)**\n",
        "  * 가변길이 인수는 keyword 방식으로는 전달할 수 없음.\n",
        "  * 함수를 정의할 때 가변길이 인수를 갖는 파라미터는 오직 1개만 선언 가능하다."
      ],
      "metadata": {
        "id": "bbQ-Jf76LXIW"
      }
    },
    {
      "cell_type": "code",
      "source": [
        "def add_all(*values):\n",
        "  total = 0\n",
        "  for x in values:\n",
        "    total += x\n",
        "\n",
        "  return total"
      ],
      "metadata": {
        "id": "rIk5Pa3zKpnH"
      },
      "execution_count": null,
      "outputs": []
    },
    {
      "cell_type": "code",
      "source": [
        "add_all()"
      ],
      "metadata": {
        "colab": {
          "base_uri": "https://localhost:8080/"
        },
        "id": "LXftQAo1fzvw",
        "outputId": "8294b6ec-0c3c-4646-cfa4-0c118c3cf1ba"
      },
      "execution_count": null,
      "outputs": [
        {
          "output_type": "execute_result",
          "data": {
            "text/plain": [
              "0"
            ]
          },
          "metadata": {},
          "execution_count": 49
        }
      ]
    },
    {
      "cell_type": "code",
      "source": [
        "add_all(1)"
      ],
      "metadata": {
        "colab": {
          "base_uri": "https://localhost:8080/"
        },
        "id": "9oPs27ztf1Sw",
        "outputId": "c0bcb41f-d265-477a-a93e-a996d87147c0"
      },
      "execution_count": null,
      "outputs": [
        {
          "output_type": "execute_result",
          "data": {
            "text/plain": [
              "1"
            ]
          },
          "metadata": {},
          "execution_count": 50
        }
      ]
    },
    {
      "cell_type": "code",
      "source": [
        "add_all(2)"
      ],
      "metadata": {
        "colab": {
          "base_uri": "https://localhost:8080/"
        },
        "id": "-t8K87tEgFtf",
        "outputId": "f3acfffd-777e-45c5-b093-e68df80a8e5d"
      },
      "execution_count": null,
      "outputs": [
        {
          "output_type": "execute_result",
          "data": {
            "text/plain": [
              "2"
            ]
          },
          "metadata": {},
          "execution_count": 51
        }
      ]
    },
    {
      "cell_type": "code",
      "source": [
        "add_all(1, 2, 3, 4, 5) # 원소 5개짜리 튜플을 전달한 거와 같음."
      ],
      "metadata": {
        "colab": {
          "base_uri": "https://localhost:8080/"
        },
        "id": "j6cLX9X9gHKN",
        "outputId": "8e80a358-f823-4130-f12e-c41162a64bd6"
      },
      "execution_count": null,
      "outputs": [
        {
          "output_type": "execute_result",
          "data": {
            "text/plain": [
              "15"
            ]
          },
          "metadata": {},
          "execution_count": 55
        }
      ]
    },
    {
      "cell_type": "markdown",
      "source": [
        "가변길이 인수 뒤에 파라미터가 있는 경우, 그 파라미터는 keyword 방식으로만 argument를 전달할 수 있다."
      ],
      "metadata": {
        "id": "RalHq2o6iSbC"
      }
    },
    {
      "cell_type": "code",
      "source": [
        "def test(*x, y):\n",
        "  print(x)\n",
        "  print(y)"
      ],
      "metadata": {
        "id": "ou7FNtvWgYON"
      },
      "execution_count": null,
      "outputs": []
    },
    {
      "cell_type": "code",
      "source": [
        "test(1, 2, 3, y=5)"
      ],
      "metadata": {
        "colab": {
          "base_uri": "https://localhost:8080/"
        },
        "id": "jrbAlz4phrhX",
        "outputId": "7ecf3401-6857-409b-f5a4-e302d63fcf9b"
      },
      "execution_count": null,
      "outputs": [
        {
          "output_type": "stream",
          "name": "stdout",
          "text": [
            "(1, 2, 3)\n",
            "5\n"
          ]
        }
      ]
    },
    {
      "cell_type": "code",
      "source": [
        "def keyword_only(*, x, y, z):\n",
        "  print(f'x={x}, y={y}, z={z}')"
      ],
      "metadata": {
        "id": "UZS74RtohtJD"
      },
      "execution_count": null,
      "outputs": []
    },
    {
      "cell_type": "code",
      "source": [
        "keyword_only(x=1, y=2, z=3)"
      ],
      "metadata": {
        "colab": {
          "base_uri": "https://localhost:8080/"
        },
        "id": "-0STIUIJjOzJ",
        "outputId": "608727c1-3217-4c0b-d61d-ddfe23655e40"
      },
      "execution_count": null,
      "outputs": [
        {
          "output_type": "stream",
          "name": "stdout",
          "text": [
            "x=1, y=2, z=3\n"
          ]
        }
      ]
    },
    {
      "cell_type": "code",
      "source": [
        "print(1, 2, 3)\n",
        "print()\n",
        "print('대한')"
      ],
      "metadata": {
        "colab": {
          "base_uri": "https://localhost:8080/"
        },
        "id": "N7zqWN3DjWTh",
        "outputId": "c865d19c-c5de-4f22-87de-2d651831d1f7"
      },
      "execution_count": null,
      "outputs": [
        {
          "output_type": "stream",
          "name": "stdout",
          "text": [
            "1 2 3\n",
            "\n",
            "대한\n"
          ]
        }
      ]
    },
    {
      "cell_type": "code",
      "source": [
        "print(1, 2, 3, sep=':')"
      ],
      "metadata": {
        "colab": {
          "base_uri": "https://localhost:8080/"
        },
        "id": "b-Yi2TIsksSP",
        "outputId": "cd577af3-487e-4a4a-eb23-64ed09572512"
      },
      "execution_count": null,
      "outputs": [
        {
          "output_type": "stream",
          "name": "stdout",
          "text": [
            "1:2:3\n"
          ]
        }
      ]
    },
    {
      "cell_type": "code",
      "source": [
        "print('hello', end=' ')\n",
        "print('ee')"
      ],
      "metadata": {
        "colab": {
          "base_uri": "https://localhost:8080/"
        },
        "id": "65wFJWRnkwnz",
        "outputId": "07197477-2b06-45d8-cffa-0ee8d5e2a708"
      },
      "execution_count": null,
      "outputs": [
        {
          "output_type": "stream",
          "name": "stdout",
          "text": [
            "hello ee\n"
          ]
        }
      ]
    },
    {
      "cell_type": "markdown",
      "source": [
        "# 가변길이 키워드 인수(variable-length keyword argument)\n",
        "\n",
        "* 함수를 정의할 때 파라미터 이름 앞에 `**`를 붙임\n",
        "* 가변길이 인수: 함수를 호출할 떄 전달하는 아규먼트의 개수 제한이 없다.\n",
        "* keyword argument: 함수를 호출할 때 반드시 `param=value` 형식으로 전달해야한다.* 함수 내부에서 가변길이 키워드 인수는 dict로 취급함.\n",
        "* 함수 호출할 때 파라미터 이름은 아무렇게나 전달해도 됨.\n",
        "* 가변길이 키워드 인수는 함수에서 한개만 사용 가능하다."
      ],
      "metadata": {
        "id": "_WAFodbVlslC"
      }
    },
    {
      "cell_type": "code",
      "source": [
        "def test2(**kwargs):\n",
        "  print(kwargs)"
      ],
      "metadata": {
        "id": "D1ZQJ7colsaS"
      },
      "execution_count": null,
      "outputs": []
    },
    {
      "cell_type": "code",
      "source": [
        "test2()"
      ],
      "metadata": {
        "colab": {
          "base_uri": "https://localhost:8080/"
        },
        "id": "NIDNsCgalsYK",
        "outputId": "8f858a88-523c-4d17-9127-b634f24fe3b2"
      },
      "execution_count": null,
      "outputs": [
        {
          "output_type": "stream",
          "name": "stdout",
          "text": [
            "{}\n"
          ]
        }
      ]
    },
    {
      "cell_type": "code",
      "source": [
        "test2(x=1, msg='daehan')"
      ],
      "metadata": {
        "colab": {
          "base_uri": "https://localhost:8080/"
        },
        "id": "m5yYh_fznFV3",
        "outputId": "1d05eed2-b5c2-4da4-d20f-d4efc3c5f43e"
      },
      "execution_count": null,
      "outputs": [
        {
          "output_type": "stream",
          "name": "stdout",
          "text": [
            "{'x': 1, 'msg': 'daehan'}\n"
          ]
        }
      ]
    },
    {
      "cell_type": "code",
      "source": [
        "def make_emp_info(emp_no, emp_name, **kwargs):\n",
        "  emp = {'emp_no' : emp_no, 'emp_name' : emp_name}\n",
        "  for k, v in kwargs.items():\n",
        "    emp[k] = v\n",
        "  return emp"
      ],
      "metadata": {
        "id": "RjofH2ORnfW6"
      },
      "execution_count": null,
      "outputs": []
    },
    {
      "cell_type": "code",
      "source": [
        "make_emp_info(1, 'king')"
      ],
      "metadata": {
        "colab": {
          "base_uri": "https://localhost:8080/"
        },
        "id": "WXfrtu0pok9L",
        "outputId": "923c160f-7055-4677-ae2d-283f35c67ea1"
      },
      "execution_count": null,
      "outputs": [
        {
          "output_type": "execute_result",
          "data": {
            "text/plain": [
              "{'emp_no': 1, 'emp_name': 'king'}"
            ]
          },
          "metadata": {},
          "execution_count": 79
        }
      ]
    },
    {
      "cell_type": "code",
      "source": [
        "make_emp_info(2, '대한', email='ge@itwill', dept='HR')"
      ],
      "metadata": {
        "colab": {
          "base_uri": "https://localhost:8080/"
        },
        "id": "LXoBQARqoo7G",
        "outputId": "cd5fe7bd-05fa-478a-d792-73cadb6b1e06"
      },
      "execution_count": null,
      "outputs": [
        {
          "output_type": "execute_result",
          "data": {
            "text/plain": [
              "{'emp_no': 2, 'emp_name': '대한', 'email': 'ge@itwill', 'dept': 'HR'}"
            ]
          },
          "metadata": {},
          "execution_count": 81
        }
      ]
    },
    {
      "cell_type": "code",
      "source": [
        "def print_msg(msg):\n",
        "  print(f'message={msg}')"
      ],
      "metadata": {
        "id": "oxpv22vZpKoS"
      },
      "execution_count": null,
      "outputs": []
    },
    {
      "cell_type": "code",
      "source": [
        "print_msg('안녕하세요')"
      ],
      "metadata": {
        "colab": {
          "base_uri": "https://localhost:8080/"
        },
        "id": "u0J8Q8pqwEo_",
        "outputId": "abd02e50-703f-49ef-81f0-c1cb9cd1a426"
      },
      "execution_count": null,
      "outputs": [
        {
          "output_type": "stream",
          "name": "stdout",
          "text": [
            "message=안녕하세요\n"
          ]
        }
      ]
    },
    {
      "cell_type": "code",
      "source": [
        "print(print_msg('안녕하세요'))"
      ],
      "metadata": {
        "colab": {
          "base_uri": "https://localhost:8080/"
        },
        "id": "Hym3nTHowGts",
        "outputId": "00a6cc90-f2cf-4553-d8d6-163e587ac8b9"
      },
      "execution_count": null,
      "outputs": [
        {
          "output_type": "stream",
          "name": "stdout",
          "text": [
            "message=안녕하세요\n",
            "None\n"
          ]
        }
      ]
    }
  ]
}