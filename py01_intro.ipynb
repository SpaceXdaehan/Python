{
  "nbformat": 4,
  "nbformat_minor": 0,
  "metadata": {
    "colab": {
      "provenance": [],
      "toc_visible": true,
      "authorship_tag": "ABX9TyOGAluSv3Nwx6SGfonr5BLo",
      "include_colab_link": true
    },
    "kernelspec": {
      "name": "python3",
      "display_name": "Python 3"
    },
    "language_info": {
      "name": "python"
    }
  },
  "cells": [
    {
      "cell_type": "markdown",
      "metadata": {
        "id": "view-in-github",
        "colab_type": "text"
      },
      "source": [
        "<a href=\"https://colab.research.google.com/github/SpaceXdaehan/Python/blob/main/py01_intro.ipynb\" target=\"_parent\"><img src=\"https://colab.research.google.com/assets/colab-badge.svg\" alt=\"Open In Colab\"/></a>"
      ]
    },
    {
      "cell_type": "markdown",
      "source": [
        "# 파이썬 소개\n",
        "\n",
        "\n",
        "\n",
        "\n"
      ],
      "metadata": {
        "id": "N8L0bC490sNc"
      }
    },
    {
      "cell_type": "code",
      "execution_count": null,
      "metadata": {
        "colab": {
          "base_uri": "https://localhost:8080/"
        },
        "id": "H2tzxNkhxyRD",
        "outputId": "ada426ef-5f13-4d64-a3f0-5cbcb3ac8b9d"
      },
      "outputs": [
        {
          "output_type": "stream",
          "name": "stdout",
          "text": [
            "안녕하세요, python!\n"
          ]
        }
      ],
      "source": [
        "# inline comment(주석)\n",
        "print('안녕하세요, python!') # 파이썬 문장을 세미콜론을 사용하지 않는다."
      ]
    },
    {
      "cell_type": "markdown",
      "source": [
        "# 파이썬 버전 확인\n"
      ],
      "metadata": {
        "id": "B4Iivcra1nwl"
      }
    },
    {
      "cell_type": "code",
      "source": [
        "!python --version"
      ],
      "metadata": {
        "colab": {
          "base_uri": "https://localhost:8080/"
        },
        "id": "4F1-vyHE1vB0",
        "outputId": "e84b7120-12d3-4172-b045-bd39ac025c33"
      },
      "execution_count": null,
      "outputs": [
        {
          "output_type": "stream",
          "name": "stdout",
          "text": [
            "Python 3.10.12\n"
          ]
        }
      ]
    },
    {
      "cell_type": "markdown",
      "source": [],
      "metadata": {
        "id": "MDZd4JauYCqp"
      }
    },
    {
      "cell_type": "markdown",
      "source": [
        "코드 셀에서 명령창(command prompt)에서 실행하는 명령어를 작성하고 실행할 때는 !로 시작."
      ],
      "metadata": {
        "id": "nodqSZXV2oGc"
      }
    },
    {
      "cell_type": "markdown",
      "source": [
        "# 코드셀 실행 방법\n",
        "\n",
        "*   코드셀 왼쪽의 실행 버튼을 클릭.\n",
        "*   Ctrl + Enter: 현재 포커스가 있는 코드셀을 실행.\n",
        "*   Shift + Enter: 현재 포커스가 있는 코드셀을 실행하고, 그 다음 셀로 포커스를 이동.\n",
        "  *   현재 셀 아래에 다을 셀이 없는 경우에는 새로운 코드 셀을 자동으로 만들어 줌.\n",
        "  *   런타임 메뉴.\n",
        "\n",
        "\n",
        "\n",
        "\n",
        "\n",
        "\n"
      ],
      "metadata": {
        "id": "0it69yGSZhox"
      }
    },
    {
      "cell_type": "code",
      "source": [
        "print('Hello, python')"
      ],
      "metadata": {
        "colab": {
          "base_uri": "https://localhost:8080/"
        },
        "id": "4eOo9BVFbE-Z",
        "outputId": "210b0df8-315a-49f3-bb4f-e1aa33eea72d"
      },
      "execution_count": null,
      "outputs": [
        {
          "output_type": "stream",
          "name": "stdout",
          "text": [
            "Hello, python\n"
          ]
        }
      ]
    },
    {
      "cell_type": "markdown",
      "source": [
        "# `print()` 함수"
      ],
      "metadata": {
        "id": "4OVhBimwbU7C"
      }
    },
    {
      "cell_type": "code",
      "source": [
        "print('hello', 'python', 'Hi', 'Fri')"
      ],
      "metadata": {
        "colab": {
          "base_uri": "https://localhost:8080/"
        },
        "id": "7R-LcVtdb-b5",
        "outputId": "6ff3831b-b643-40d3-83f3-aafd3c432df9"
      },
      "execution_count": null,
      "outputs": [
        {
          "output_type": "stream",
          "name": "stdout",
          "text": [
            "hello python Hi Fri\n"
          ]
        }
      ]
    },
    {
      "cell_type": "markdown",
      "source": [
        "`print()` 함수에 아큐먼트를 여러개 전달하면, 아규먼트들을 공백으로 연결해서 콘솔에 출력함."
      ],
      "metadata": {
        "id": "2I-TcxAxclCS"
      }
    },
    {
      "cell_type": "markdown",
      "source": [
        "## `format()` 메서드를 사용한 출력"
      ],
      "metadata": {
        "id": "ywSdviyzbfzK"
      }
    },
    {
      "cell_type": "code",
      "source": [
        "print('{} + {} = {}'.format(1, 2, 3))"
      ],
      "metadata": {
        "colab": {
          "base_uri": "https://localhost:8080/"
        },
        "id": "6nFXDIiGbIm_",
        "outputId": "44cdd846-b296-47b5-e329-c8436d9de949"
      },
      "execution_count": null,
      "outputs": [
        {
          "output_type": "stream",
          "name": "stdout",
          "text": [
            "1 + 2 = 3\n"
          ]
        }
      ]
    },
    {
      "cell_type": "markdown",
      "source": [
        "## formatted string (문자열 템플릿)을 사용한 출력\n",
        "Python 3.6 이상의 버전에서 사용할 수 있음."
      ],
      "metadata": {
        "id": "JfFNPGB6ddcQ"
      }
    },
    {
      "cell_type": "code",
      "source": [
        "# 변수이름 = 값\n",
        "x = 1\n",
        "y = 2\n",
        "print(f'{x} + {y} = {x + y}')"
      ],
      "metadata": {
        "colab": {
          "base_uri": "https://localhost:8080/"
        },
        "id": "rhFQ4AhOdJ5Y",
        "outputId": "a020187a-e373-4852-a0e4-1d542d6135d7"
      },
      "execution_count": null,
      "outputs": [
        {
          "output_type": "stream",
          "name": "stdout",
          "text": [
            "1 + 2 = 3\n"
          ]
        }
      ]
    },
    {
      "cell_type": "markdown",
      "source": [
        "## ipynb 노트북에서의 콘솔 출력\n",
        "* 식(expression): 값(value), 변수, 연산, 함수 호출(식이될 수도 있고, 문장이될 수도 있음)\n",
        "  * x, x + y\n",
        "* 문장(statement): 코드의 최소 실행 단위\n",
        "  * z = x + y, result = add(x, y)\n",
        "* ipynb 노트북 코드셀에서 가장 마지막 줄에 있는 문장이 식(expression)이면, 그 식을 평가한 결과를 콘솔에 출력해 줌.\n",
        "  * 마지막 줄에서는 print() 함수를 호출하지 않아도 출력이 됨."
      ],
      "metadata": {
        "id": "NQyBt9mLfFlI"
      }
    },
    {
      "cell_type": "code",
      "source": [
        "x = 1\n",
        "print(x)\n",
        "y = 2\n",
        "print(y)\n",
        "# print(x + y)\n",
        "x + y"
      ],
      "metadata": {
        "colab": {
          "base_uri": "https://localhost:8080/"
        },
        "id": "G_VxApQBgjJK",
        "outputId": "5ef8e7b4-fbc7-4770-c926-1de11baa8e17"
      },
      "execution_count": null,
      "outputs": [
        {
          "output_type": "stream",
          "name": "stdout",
          "text": [
            "1\n",
            "2\n"
          ]
        },
        {
          "output_type": "execute_result",
          "data": {
            "text/plain": [
              "3"
            ]
          },
          "metadata": {},
          "execution_count": 13
        }
      ]
    },
    {
      "cell_type": "code",
      "source": [
        "for x in range(0, 10):\n",
        "  print(f'{x}')"
      ],
      "metadata": {
        "colab": {
          "base_uri": "https://localhost:8080/"
        },
        "id": "HvRUyQWDgsrU",
        "outputId": "83899242-8aca-4fc6-dd32-64dad97cdb18"
      },
      "execution_count": null,
      "outputs": [
        {
          "output_type": "stream",
          "name": "stdout",
          "text": [
            "0\n",
            "1\n",
            "2\n",
            "3\n",
            "4\n",
            "5\n",
            "6\n",
            "7\n",
            "8\n",
            "9\n"
          ]
        }
      ]
    },
    {
      "cell_type": "code",
      "source": [],
      "metadata": {
        "id": "eSV7j65ck-Hm"
      },
      "execution_count": null,
      "outputs": []
    }
  ]
}