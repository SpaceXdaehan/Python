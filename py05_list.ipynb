{
  "nbformat": 4,
  "nbformat_minor": 0,
  "metadata": {
    "colab": {
      "provenance": [],
      "toc_visible": true,
      "authorship_tag": "ABX9TyN72ap4DUY+c1mbbqaYv8dz"
    },
    "kernelspec": {
      "name": "python3",
      "display_name": "Python 3"
    },
    "language_info": {
      "name": "python"
    }
  },
  "cells": [
    {
      "cell_type": "markdown",
      "source": [
        "# list(리스트)\n",
        "\n",
        "* 여러 개의 값들을 하나의 변수에 저장하기 위한 데이터 타입.\n",
        "* element(원소, 요소): 리스트에 저장되는 각각의 값.\n",
        "* index(인덱스): 리스트에서 원소가 저장된 위치\n",
        "  * 리스트의 인덱스는 **0** 부터 시작.\n",
        "  * 리스트의 마지막 인덱스는(원소 개수 -1).\n",
        "* 리스트는 원소들을 추가, 삭제, 변경할 수 있음.\n",
        "  * **`tuple`과 다른 점!!**\n",
        "  * list는 값들을 변경할 수 있는 타입.\n",
        "  * tuple는 값들을 변경할 수 없는 타입.\n"
      ],
      "metadata": {
        "id": "rhTNx5INhxEk"
      }
    },
    {
      "cell_type": "code",
      "source": [
        "# 숫자들을 저장하는 리스트\n",
        "numbers = [1, 2, 3, 4, 5, 10]\n",
        "numbers"
      ],
      "metadata": {
        "colab": {
          "base_uri": "https://localhost:8080/"
        },
        "id": "Ge8ruh6gjjeG",
        "outputId": "4ce422c8-cdae-4216-ae9b-2af94e4b75ad"
      },
      "execution_count": null,
      "outputs": [
        {
          "output_type": "execute_result",
          "data": {
            "text/plain": [
              "[1, 2, 3, 4, 5, 10]"
            ]
          },
          "metadata": {},
          "execution_count": 1
        }
      ]
    },
    {
      "cell_type": "markdown",
      "source": [
        "# 인덱싱(indexing)\n",
        "\n",
        "인덱스를 사용해서 리스트의 원소를 참조하는 방법."
      ],
      "metadata": {
        "id": "3Ad99Y_wnht9"
      }
    },
    {
      "cell_type": "code",
      "source": [
        "numbers[0] # 리스트 numbers의 인덱스 0 위치의 원소\n",
        "numbers[5] # 리스트 numbers의 인덱스 5 위치의 원소\n",
        "\n",
        "numbers[-1] # 리스트에서 가장 마지막 원소\n",
        "numbers[-2]\n",
        "numbers[-6]"
      ],
      "metadata": {
        "colab": {
          "base_uri": "https://localhost:8080/"
        },
        "id": "KeVbPwuDn1ey",
        "outputId": "d90298c0-b8ce-4836-af89-7eb142ad71e9"
      },
      "execution_count": null,
      "outputs": [
        {
          "output_type": "execute_result",
          "data": {
            "text/plain": [
              "1"
            ]
          },
          "metadata": {},
          "execution_count": 9
        }
      ]
    },
    {
      "cell_type": "markdown",
      "source": [
        "# slicing\n",
        "\n",
        "인덱스를 사용해서 리스트의 부분집합(리스트)를 잘라내는 방법.\n",
        "\n",
        "`list[start:end]`\n",
        "\n",
        "* start <= index < end 범위의 인덱스 위치의 원소들을 잘라냄.\n",
        "* start를 생략한 경우에는 첫번째 원소부터 잘라냄.\n",
        "  * `list[0:5]`과 `list[:5]`는 같은 결과.\n",
        "* end를 생략한 경우에는 마지막 원소까지 잘라냄.\n",
        "* 리스트를 slicing한 결과는 또다른 새로운 **리스트**"
      ],
      "metadata": {
        "id": "gAkeGkLrqOmM"
      }
    },
    {
      "cell_type": "code",
      "source": [
        "numbers\n",
        "numbers[1:4]\n",
        "numbers[:4]"
      ],
      "metadata": {
        "colab": {
          "base_uri": "https://localhost:8080/"
        },
        "id": "cC3jV0dQrdgj",
        "outputId": "da39f563-8eea-4d5e-f193-267cc460ddfb"
      },
      "execution_count": null,
      "outputs": [
        {
          "output_type": "execute_result",
          "data": {
            "text/plain": [
              "[1, 2, 3, 4]"
            ]
          },
          "metadata": {},
          "execution_count": 12
        }
      ]
    },
    {
      "cell_type": "code",
      "source": [
        "numbers[3:6]"
      ],
      "metadata": {
        "colab": {
          "base_uri": "https://localhost:8080/"
        },
        "id": "xbE5IUuAsw0a",
        "outputId": "a7efd779-0fd4-4f9d-c50e-e1a3e174c65d"
      },
      "execution_count": null,
      "outputs": [
        {
          "output_type": "execute_result",
          "data": {
            "text/plain": [
              "[4, 5, 10]"
            ]
          },
          "metadata": {},
          "execution_count": 15
        }
      ]
    },
    {
      "cell_type": "code",
      "source": [
        "# 리스트에서 앞에서 3개를 선택\n",
        "numbers[:3]"
      ],
      "metadata": {
        "colab": {
          "base_uri": "https://localhost:8080/"
        },
        "id": "BgWCJIkps4ec",
        "outputId": "e3b009d7-f862-4452-e51e-b02aa4626649"
      },
      "execution_count": null,
      "outputs": [
        {
          "output_type": "execute_result",
          "data": {
            "text/plain": [
              "[1, 2, 3]"
            ]
          },
          "metadata": {},
          "execution_count": 17
        }
      ]
    },
    {
      "cell_type": "code",
      "source": [
        "# 리스트에서 뒤에서 3개를 선택\n",
        "numbers[-3:]"
      ],
      "metadata": {
        "colab": {
          "base_uri": "https://localhost:8080/"
        },
        "id": "lPjTaGB-syv6",
        "outputId": "be54b6de-45af-4e78-83c2-37b2660354c1"
      },
      "execution_count": null,
      "outputs": [
        {
          "output_type": "execute_result",
          "data": {
            "text/plain": [
              "[4, 5, 10]"
            ]
          },
          "metadata": {},
          "execution_count": 19
        }
      ]
    },
    {
      "cell_type": "code",
      "source": [
        "numbers[0:1] # slicing -> 리스트"
      ],
      "metadata": {
        "colab": {
          "base_uri": "https://localhost:8080/"
        },
        "id": "tWjnnWO-uf5i",
        "outputId": "929598ca-142a-4ab2-f427-24364bfe28a8"
      },
      "execution_count": null,
      "outputs": [
        {
          "output_type": "execute_result",
          "data": {
            "text/plain": [
              "[1]"
            ]
          },
          "metadata": {},
          "execution_count": 21
        }
      ]
    },
    {
      "cell_type": "code",
      "source": [
        "numbers[0] # indexing -> 값"
      ],
      "metadata": {
        "colab": {
          "base_uri": "https://localhost:8080/"
        },
        "id": "z6EYFztRufmi",
        "outputId": "0c27ab7a-c9c2-4f03-d8bd-a16c2205f171"
      },
      "execution_count": null,
      "outputs": [
        {
          "output_type": "execute_result",
          "data": {
            "text/plain": [
              "1"
            ]
          },
          "metadata": {},
          "execution_count": 20
        }
      ]
    },
    {
      "cell_type": "markdown",
      "source": [
        "# 문자열(str)\n",
        "\n",
        "* 문자들의 **리스트**.\n",
        "* 문자열은 인덱스를 사용할 수 있음\n",
        "* indexing, slicing 사용 가능."
      ],
      "metadata": {
        "id": "_877iGcsu7Ds"
      }
    },
    {
      "cell_type": "code",
      "source": [
        "message = '안녕하세요, 파이썬!' # 11개의 문자들로 이루어진 리스트.\n",
        "message[0] # 문자열에서 첫번째 문자"
      ],
      "metadata": {
        "colab": {
          "base_uri": "https://localhost:8080/",
          "height": 35
        },
        "id": "KgNcGs8xvdwm",
        "outputId": "4a8714fa-fa6e-4b01-c56f-e3a888c6b348"
      },
      "execution_count": null,
      "outputs": [
        {
          "output_type": "execute_result",
          "data": {
            "text/plain": [
              "'안'"
            ],
            "application/vnd.google.colaboratory.intrinsic+json": {
              "type": "string"
            }
          },
          "metadata": {},
          "execution_count": 48
        }
      ]
    },
    {
      "cell_type": "code",
      "source": [
        "message[-1] # 문자열에서 마지막 문자"
      ],
      "metadata": {
        "colab": {
          "base_uri": "https://localhost:8080/",
          "height": 35
        },
        "id": "cH8_F9giwNgN",
        "outputId": "18a3dd7e-54b9-4865-826b-1d6b7695e5e6"
      },
      "execution_count": null,
      "outputs": [
        {
          "output_type": "execute_result",
          "data": {
            "text/plain": [
              "'!'"
            ],
            "application/vnd.google.colaboratory.intrinsic+json": {
              "type": "string"
            }
          },
          "metadata": {},
          "execution_count": 49
        }
      ]
    },
    {
      "cell_type": "code",
      "source": [
        "message[:3] # 문자열에서 앞에서 3글자"
      ],
      "metadata": {
        "colab": {
          "base_uri": "https://localhost:8080/",
          "height": 35
        },
        "id": "4qb6QDK8wQyt",
        "outputId": "0f7079c6-8051-4d85-f32c-02b68ffd6936"
      },
      "execution_count": null,
      "outputs": [
        {
          "output_type": "execute_result",
          "data": {
            "text/plain": [
              "'안녕하'"
            ],
            "application/vnd.google.colaboratory.intrinsic+json": {
              "type": "string"
            }
          },
          "metadata": {},
          "execution_count": 50
        }
      ]
    },
    {
      "cell_type": "code",
      "source": [
        "message[-3:] # 문자열에서 뒤에서 3글자"
      ],
      "metadata": {
        "colab": {
          "base_uri": "https://localhost:8080/",
          "height": 35
        },
        "id": "ozwbkhwbwTJd",
        "outputId": "30d52867-39f5-4a3b-f4a4-2e99ed70efd1"
      },
      "execution_count": null,
      "outputs": [
        {
          "output_type": "execute_result",
          "data": {
            "text/plain": [
              "'이썬!'"
            ],
            "application/vnd.google.colaboratory.intrinsic+json": {
              "type": "string"
            }
          },
          "metadata": {},
          "execution_count": 51
        }
      ]
    },
    {
      "cell_type": "markdown",
      "source": [
        "# 리스트의 문자열 산술 연산: +, *\n",
        "\n",
        "* `list + list`\n",
        "* `list * int 또는 int * list`"
      ],
      "metadata": {
        "id": "82EXl6Q7w89r"
      }
    },
    {
      "cell_type": "code",
      "source": [
        "print('hello' + 'python')\n",
        "print('hello python ' * 3)"
      ],
      "metadata": {
        "colab": {
          "base_uri": "https://localhost:8080/"
        },
        "id": "udzC3Yg0xDKV",
        "outputId": "2414ce9a-98bb-4a5d-f427-6ea914fe88a8"
      },
      "execution_count": null,
      "outputs": [
        {
          "output_type": "stream",
          "name": "stdout",
          "text": [
            "hellopython\n",
            "hello python hello python hello python \n"
          ]
        }
      ]
    },
    {
      "cell_type": "code",
      "source": [
        "[1, 2, 3] + [4, 5, 6] # concatenate"
      ],
      "metadata": {
        "colab": {
          "base_uri": "https://localhost:8080/"
        },
        "id": "QQQnRn_8xsLi",
        "outputId": "47b96028-f264-4c14-afbc-d43ee5bc3fb6"
      },
      "execution_count": null,
      "outputs": [
        {
          "output_type": "execute_result",
          "data": {
            "text/plain": [
              "[1, 2, 3, 4, 5, 6]"
            ]
          },
          "metadata": {},
          "execution_count": 55
        }
      ]
    },
    {
      "cell_type": "code",
      "source": [
        "[1, 2, 3] * 3"
      ],
      "metadata": {
        "colab": {
          "base_uri": "https://localhost:8080/"
        },
        "id": "LS_BRykExzop",
        "outputId": "17cfd93f-6936-4a4d-db8b-c9c0277edd58"
      },
      "execution_count": null,
      "outputs": [
        {
          "output_type": "execute_result",
          "data": {
            "text/plain": [
              "[1, 2, 3, 1, 2, 3, 1, 2, 3]"
            ]
          },
          "metadata": {},
          "execution_count": 56
        }
      ]
    },
    {
      "cell_type": "markdown",
      "source": [
        "list와 for 반복문"
      ],
      "metadata": {
        "id": "9hm7nuLK2EZa"
      }
    },
    {
      "cell_type": "code",
      "source": [
        "for x in 'hello':\n",
        "  print(x)"
      ],
      "metadata": {
        "colab": {
          "base_uri": "https://localhost:8080/"
        },
        "id": "BlYg4Azn2UbR",
        "outputId": "6c97eb8c-d01e-4689-9f2f-9bf1f7c57be8"
      },
      "execution_count": null,
      "outputs": [
        {
          "output_type": "stream",
          "name": "stdout",
          "text": [
            "h\n",
            "e\n",
            "l\n",
            "l\n",
            "o\n"
          ]
        }
      ]
    },
    {
      "cell_type": "code",
      "source": [
        "numbers = [1, 10, 5, 100]\n",
        "for x in numbers:\n",
        "  print(x)"
      ],
      "metadata": {
        "colab": {
          "base_uri": "https://localhost:8080/"
        },
        "id": "rSsF0i3N2e9J",
        "outputId": "3dd226be-f830-496d-c524-898f39c11a93"
      },
      "execution_count": null,
      "outputs": [
        {
          "output_type": "stream",
          "name": "stdout",
          "text": [
            "1\n",
            "10\n",
            "5\n",
            "100\n"
          ]
        }
      ]
    },
    {
      "cell_type": "code",
      "source": [
        "# numbers의 인덱스 번호와 인덱스의 값을 동시에 출력\n",
        "\n",
        "for i in range(len(numbers)):\n",
        "  print(i, ':', numbers[i])"
      ],
      "metadata": {
        "colab": {
          "base_uri": "https://localhost:8080/"
        },
        "id": "8587ljK52006",
        "outputId": "dafa3742-ce30-4927-abba-b4d2ef0eef44"
      },
      "execution_count": null,
      "outputs": [
        {
          "output_type": "stream",
          "name": "stdout",
          "text": [
            "0 : 1\n",
            "1 : 10\n",
            "2 : 5\n",
            "3 : 100\n"
          ]
        }
      ]
    },
    {
      "cell_type": "code",
      "source": [],
      "metadata": {
        "id": "MqB-lxS3MXMy"
      },
      "execution_count": null,
      "outputs": []
    },
    {
      "cell_type": "code",
      "source": [
        "# enumerate함수에 list를 넘겨서 사용하고 인덱스와 인덱스의 값을 꺼내줌\n",
        "# 파이썬에서는 변수를 두개 선언할 수 있음.\n",
        "\n",
        "for i, v in enumerate(numbers):\n",
        "  print(i, ':', v)"
      ],
      "metadata": {
        "colab": {
          "base_uri": "https://localhost:8080/"
        },
        "id": "6Zd6silI3xXB",
        "outputId": "9f828332-5212-4029-868f-f9c0d49bb972"
      },
      "execution_count": null,
      "outputs": [
        {
          "output_type": "stream",
          "name": "stdout",
          "text": [
            "0 : 1\n",
            "1 : 10\n",
            "2 : 5\n",
            "3 : 100\n"
          ]
        }
      ]
    },
    {
      "cell_type": "code",
      "source": [
        "numbers1 = [1, 2, 3]\n",
        "numbers2 = [10, 11, 12]\n",
        "# numbers1 과 numbers2의 같은 인덱스의 원소들끼리의 합을 원소로 갖는 리스트.\n",
        "#[11, 13, 15]\n",
        "\n",
        "result = []   # 빈(empty) 리스트\n",
        "for i in range(len(numbers1)): # 0 <= i < len\n",
        "  result.append(numbers1[i] + numbers2[i])\n",
        "result\n"
      ],
      "metadata": {
        "colab": {
          "base_uri": "https://localhost:8080/"
        },
        "id": "rn41uNiZ4snp",
        "outputId": "fe973352-8472-4131-dda7-19874561f797"
      },
      "execution_count": null,
      "outputs": [
        {
          "output_type": "execute_result",
          "data": {
            "text/plain": [
              "[11, 13, 15]"
            ]
          },
          "metadata": {},
          "execution_count": 71
        }
      ]
    },
    {
      "cell_type": "code",
      "source": [
        "# range함수보다 zip 함수를 사용하는게 더 간편함\n",
        "\n",
        "result = []\n",
        "for x, y  in zip(numbers1, numbers2):\n",
        "  result.append(x + y)\n",
        "result"
      ],
      "metadata": {
        "colab": {
          "base_uri": "https://localhost:8080/"
        },
        "id": "0T_6i83L7qxc",
        "outputId": "87b30f4b-fa6a-4c8a-e869-bc43e9e7d6ea"
      },
      "execution_count": null,
      "outputs": [
        {
          "output_type": "execute_result",
          "data": {
            "text/plain": [
              "[11, 13, 15]"
            ]
          },
          "metadata": {},
          "execution_count": 72
        }
      ]
    },
    {
      "cell_type": "markdown",
      "source": [
        "파이썬에서 난수를 만드는 방법:"
      ],
      "metadata": {
        "id": "_5yOnccS-ElR"
      }
    },
    {
      "cell_type": "code",
      "source": [
        "import random # random 모듈을 임포트"
      ],
      "metadata": {
        "id": "7PAMNxkE-Hqy"
      },
      "execution_count": null,
      "outputs": []
    },
    {
      "cell_type": "code",
      "source": [
        "# random 모듈의 random() 함수를 호출함\n",
        "random.random() # [0, 1) 범위(0 <= x < 1)의 실수 난수를 리턴."
      ],
      "metadata": {
        "colab": {
          "base_uri": "https://localhost:8080/"
        },
        "id": "AuopgZ3f-TCZ",
        "outputId": "4b2ea231-398f-47fb-96e6-23b50463d771"
      },
      "execution_count": null,
      "outputs": [
        {
          "output_type": "execute_result",
          "data": {
            "text/plain": [
              "0.09512173105964017"
            ]
          },
          "metadata": {},
          "execution_count": 79
        }
      ]
    },
    {
      "cell_type": "code",
      "source": [
        "# random 모듈의 randrange() 함수를 호출\n",
        "random.randrange(10) # [0, 10) 범위의 정수 난수를 리턴."
      ],
      "metadata": {
        "colab": {
          "base_uri": "https://localhost:8080/"
        },
        "id": "CvQGyuZq_FHJ",
        "outputId": "dceb5012-2078-457b-8e82-7f556147ed6d"
      },
      "execution_count": null,
      "outputs": [
        {
          "output_type": "execute_result",
          "data": {
            "text/plain": [
              "9"
            ]
          },
          "metadata": {},
          "execution_count": 83
        }
      ]
    },
    {
      "cell_type": "code",
      "source": [
        "random.randrange(1, 4) #[1, 4) 범위의 정수 난수를 리턴."
      ],
      "metadata": {
        "colab": {
          "base_uri": "https://localhost:8080/"
        },
        "id": "8n1M4R7o_iIW",
        "outputId": "e625daea-16d2-483d-cd09-3ac7bdc6a86b"
      },
      "execution_count": null,
      "outputs": [
        {
          "output_type": "execute_result",
          "data": {
            "text/plain": [
              "3"
            ]
          },
          "metadata": {},
          "execution_count": 88
        }
      ]
    },
    {
      "cell_type": "code",
      "source": [
        "random.randint(1, 10) #[1, 10] 범위의 정수 난수를 리턴."
      ],
      "metadata": {
        "colab": {
          "base_uri": "https://localhost:8080/"
        },
        "id": "G4m26Qn3_2ur",
        "outputId": "8662da44-3f1e-4aec-eb3b-ad95152eb0ab"
      },
      "execution_count": null,
      "outputs": [
        {
          "output_type": "execute_result",
          "data": {
            "text/plain": [
              "9"
            ]
          },
          "metadata": {},
          "execution_count": 102
        }
      ]
    },
    {
      "cell_type": "markdown",
      "source": [
        "#Exercises\n",
        "\n",
        "Ex 1.\n",
        "1. 빈 리스트를 생성.\n",
        "2. 1 이상 10 이하의 정수 난수 5개를 저장.\n",
        "3. 리스트의 모든 정수들의 합을 출력.\n",
        "4. 리스트의 모든 정수들의 평균을 출력.\n",
        "\n",
        "Ex 2.\n",
        "1. 빈 리스트(numbers)를 생성.\n",
        "2. 10 이상, 100 미만의 정수 난수 10개를 numbers에 저장.\n",
        "3. numbers에서 짝수들만 선택해서 evens 리스트를 만들고 출력.\n",
        "4. numbers에서 홀수들만 선택해서 odds 리스트를 만들고 출력.\n",
        "\n",
        "Ex 3.\n",
        "1. 빈 리스트 numbers를 만듦.\n",
        "2. -10 이상 10 이하인 범위의 정수 난수 10개를 numbers에 저장.\n",
        "3. numbers의 원소가 양수이면 True, 그렇지 않으면 False를 저장하는 is_positive   리스트를 만들고 출력.\n",
        "\n",
        "Ex 4.\n",
        "1. gender_codes 리스트에 0 또는 1을 랜덤하게 10개를 저장.\n",
        "2. gender_codes의 값이 0이면 'Male', 그렇지 않으며 'Female'을 저장하는 genders 리스트를 만들고 출력.\n",
        "\n",
        "Ex 5.\n",
        "1. numbers1: 100 미만의 정수 난수 10개를 저장하는 리스트.\n",
        "2. numbers2: 100 미만의 정수 난수 10개를 저장하는 리스트.\n",
        "3. multiplication: numbers1과 numbers2의 같은 인덱스에 있는 원소들끼리의 곱셈 결과를 저장하는 리스트.\n",
        "4. subtraction: numbers1의 원소에서 같은 인덱스에 있는 numbers2의 원소를 뺀 값을 저장하는 리스트.\n",
        "numbers1, numbers2, multiplication, subtraction를 출력."
      ],
      "metadata": {
        "id": "X1NUkQLxC3Sp"
      }
    },
    {
      "cell_type": "markdown",
      "source": [
        "#Ex 1."
      ],
      "metadata": {
        "id": "EvRX6Zsd-p-6"
      }
    },
    {
      "cell_type": "code",
      "source": [
        "# Ex 1.\n",
        "\n",
        "result = []\n",
        "for i in range(1, 6):\n",
        "  num = random.randint(1, 10)\n",
        "  result.append(num)\n",
        "  total = sum(result)\n",
        "  avg = total / len(result)\n",
        "\n",
        "print('랜덤 정수 5개 ' + '=', result)\n",
        "print('리스트 정수의 합 ' + '=', total)\n",
        "print('평균 ' + '=', avg)"
      ],
      "metadata": {
        "colab": {
          "base_uri": "https://localhost:8080/"
        },
        "id": "IZhahd4hEN1A",
        "outputId": "58aa4496-d340-4b98-dfe4-e471d3589c31"
      },
      "execution_count": null,
      "outputs": [
        {
          "output_type": "stream",
          "name": "stdout",
          "text": [
            "랜덤 정수 5개 = [9, 7, 2, 5, 8]\n",
            "리스트 정수의 합 = 31\n",
            "평균 = 6.2\n"
          ]
        }
      ]
    },
    {
      "cell_type": "markdown",
      "source": [
        "#Ex 2."
      ],
      "metadata": {
        "id": "pL4xtSqx-o2K"
      }
    },
    {
      "cell_type": "code",
      "source": [
        "# Ex 2.\n",
        "\n",
        "numbers = [random.randint(1, 100) for _ in range(10)]\n",
        "print('난수 10개 ' + '=', numbers)\n",
        "\n",
        "evens = [num for num in numbers if num % 2 == 0]\n",
        "print('짝수 ' + '=', evens)\n",
        "\n",
        "odds = [num for num in numbers if num % 2 == 1]\n",
        "print('홀수 ' + '=', odds)"
      ],
      "metadata": {
        "id": "W0-OrHHeJlhN",
        "colab": {
          "base_uri": "https://localhost:8080/"
        },
        "outputId": "c7b0c3dd-594f-4279-c5a0-f2865c9577e4"
      },
      "execution_count": null,
      "outputs": [
        {
          "output_type": "stream",
          "name": "stdout",
          "text": [
            "난수 10개 = [34, 60, 28, 22, 20, 56, 4, 27, 20, 10]\n",
            "짝수 = [34, 60, 28, 22, 20, 56, 4, 20, 10]\n",
            "홀수 = [27]\n"
          ]
        }
      ]
    },
    {
      "cell_type": "markdown",
      "source": [
        "#Ex 3."
      ],
      "metadata": {
        "id": "Dd-rOCQP-nkZ"
      }
    },
    {
      "cell_type": "code",
      "source": [
        "# Ex 3.\n",
        "\n",
        "numbers2 = []\n",
        "is_positive = []\n",
        "for i in range(10):\n",
        "  numbers2.insert(x, random.randint(-10,10))\n",
        "  if(numbers2[i] > 0):\n",
        "    is_positive.append(True)\n",
        "  else:\n",
        "    is_positive.append(False)\n",
        "\n",
        "print(numbers2)\n",
        "print('is_positive =', is_positive)"
      ],
      "metadata": {
        "colab": {
          "base_uri": "https://localhost:8080/"
        },
        "id": "dCSY7mG2C8H_",
        "outputId": "dc70df6e-1a9e-44d8-c0bf-182aea69714c"
      },
      "execution_count": null,
      "outputs": [
        {
          "output_type": "stream",
          "name": "stdout",
          "text": [
            "[-7, -1, 0, -4, -3, -7, -10, -10, 1, 0]\n",
            "is_positive = [False, False, False, False, False, False, False, False, True, False]\n"
          ]
        }
      ]
    },
    {
      "cell_type": "markdown",
      "source": [
        "#Ex 4."
      ],
      "metadata": {
        "id": "qtv6yQAt-lSC"
      }
    },
    {
      "cell_type": "code",
      "source": [
        "# Ex 4.\n",
        "\n",
        "gender_code = []\n",
        "genders = []\n",
        "for i in range(10):\n",
        "  gender_code.append(random.randrange(0, 2))\n",
        "  if(gender_code[i] == 1):\n",
        "    genders.append('Female')\n",
        "  else:\n",
        "    genders.append('Male')\n",
        "\n",
        "print(gender_code)\n",
        "print(f'genders = {genders}')"
      ],
      "metadata": {
        "colab": {
          "base_uri": "https://localhost:8080/"
        },
        "id": "ZoYv25FaHRXk",
        "outputId": "6c3f7174-0b4f-4be5-edbc-a9c400427a13"
      },
      "execution_count": null,
      "outputs": [
        {
          "output_type": "stream",
          "name": "stdout",
          "text": [
            "[0, 1, 0, 1, 1, 0, 1, 1, 0, 1]\n",
            "genders = ['Male', 'Female', 'Male', 'Female', 'Female', 'Male', 'Female', 'Female', 'Male', 'Female']\n"
          ]
        }
      ]
    },
    {
      "cell_type": "markdown",
      "source": [
        "#Ex 5."
      ],
      "metadata": {
        "id": "3PaG9dtR-r0L"
      }
    },
    {
      "cell_type": "code",
      "source": [
        "# Ex 5.\n",
        "\n",
        "numbers3 = []\n",
        "numbers4 = []\n",
        "multiplication = []\n",
        "subtraction = []\n",
        "for i in range(10):\n",
        "  numbers3.append(random.randrange(100))\n",
        "  numbers4.append(random.randrange(100))\n",
        "  multiplication.append(numbers3[i] * numbers4[i])\n",
        "  subtraction.append(numbers3[i] - numbers4[i])\n",
        "\n",
        "print(f'numbers3 = {numbers3}')\n",
        "print(f'numbers4 = {numbers4}')\n",
        "print(f'multiplication = {multiplication}')\n",
        "print(f'subtraction = {subtraction}')"
      ],
      "metadata": {
        "colab": {
          "base_uri": "https://localhost:8080/"
        },
        "id": "8XHhGK09I7ij",
        "outputId": "d6eb1228-d3d1-4d11-aacc-25c09718633e"
      },
      "execution_count": null,
      "outputs": [
        {
          "output_type": "stream",
          "name": "stdout",
          "text": [
            "numbers3 = [87, 54, 16, 63, 5, 22, 7, 20, 15, 54]\n",
            "numbers4 = [65, 15, 65, 26, 39, 67, 4, 86, 78, 71]\n",
            "multiplication = [5655, 810, 1040, 1638, 195, 1474, 28, 1720, 1170, 3834]\n",
            "subtraction = [22, 39, -49, 37, -34, -45, 3, -66, -63, -17]\n"
          ]
        }
      ]
    },
    {
      "cell_type": "markdown",
      "source": [
        "List Comprehension(리스트 내포)\n",
        "\n",
        "1 ~ 10 정수들을 순서대로 리스트에 저장: [1, 2, 3, ..., 9, 10]"
      ],
      "metadata": {
        "id": "xXugjhZgsyTt"
      }
    },
    {
      "cell_type": "code",
      "source": [
        "numbers = []\n",
        "for i in range(1, 11):\n",
        "  numbers.append(i)\n",
        "numbers"
      ],
      "metadata": {
        "colab": {
          "base_uri": "https://localhost:8080/"
        },
        "id": "XnlkvdOftCl3",
        "outputId": "5625e02d-62b3-4889-b5d0-8962b6622f2e"
      },
      "execution_count": null,
      "outputs": [
        {
          "output_type": "execute_result",
          "data": {
            "text/plain": [
              "[1, 2, 3, 4, 5, 6, 7, 8, 9, 10]"
            ]
          },
          "metadata": {},
          "execution_count": 4
        }
      ]
    },
    {
      "cell_type": "code",
      "source": [
        "numbers = [i for i in range(1, 11)]\n",
        "numbers"
      ],
      "metadata": {
        "colab": {
          "base_uri": "https://localhost:8080/"
        },
        "id": "A3-kMRi6tYiM",
        "outputId": "8e246b56-4b43-4cee-f5ac-a3d2de1a002a"
      },
      "execution_count": null,
      "outputs": [
        {
          "output_type": "execute_result",
          "data": {
            "text/plain": [
              "[1, 2, 3, 4, 5, 6, 7, 8, 9, 10]"
            ]
          },
          "metadata": {},
          "execution_count": 7
        }
      ]
    },
    {
      "cell_type": "code",
      "source": [
        "# 1 부터 10까지 각 숫자들의 제곱을 출력\n",
        "\n",
        "squares = [x ** 2 for x in range(1, 11)]\n",
        "squares\n"
      ],
      "metadata": {
        "colab": {
          "base_uri": "https://localhost:8080/"
        },
        "id": "26uvRSGJt7vE",
        "outputId": "130482ee-c105-42ab-f09c-7c3b7b763952"
      },
      "execution_count": null,
      "outputs": [
        {
          "output_type": "execute_result",
          "data": {
            "text/plain": [
              "[1, 4, 9, 16, 25, 36, 49, 64, 81, 100]"
            ]
          },
          "metadata": {},
          "execution_count": 8
        }
      ]
    },
    {
      "cell_type": "code",
      "source": [
        "# 난수 10개를 저장하는 리스트 [0, 10)\n",
        "\n",
        "import random\n",
        "number = [random.randint(0, 11) for i in range(1, 11)]\n",
        "number"
      ],
      "metadata": {
        "colab": {
          "base_uri": "https://localhost:8080/"
        },
        "id": "0zwNH0qJuql0",
        "outputId": "d8577202-143e-4365-af0f-eda37a9b702b"
      },
      "execution_count": null,
      "outputs": [
        {
          "output_type": "execute_result",
          "data": {
            "text/plain": [
              "[1, 2, 8, 3, 1, 5, 11, 4, 5, 0]"
            ]
          },
          "metadata": {},
          "execution_count": 10
        }
      ]
    },
    {
      "cell_type": "markdown",
      "source": [
        "Ex 1 ~ Ex 5 연습 문제를 list comprehension을 사용해서 작성\n",
        "\n",
        "# filtering\n",
        "[value for x in iterable if condition]\n",
        "\n",
        "# mapping\n",
        "[value1 if condition else value2 for x in iterable]"
      ],
      "metadata": {
        "id": "pUasz98_v9Gc"
      }
    },
    {
      "cell_type": "markdown",
      "source": [
        "#Ex 1."
      ],
      "metadata": {
        "id": "7XS8ZaVM9-Kq"
      }
    },
    {
      "cell_type": "code",
      "source": [
        "# Ex 1.\n",
        "\n",
        "result = [random.randint(1, 10) for i in range(1, 6)]\n",
        "print(result)\n",
        "\n",
        "total = sum(result)\n",
        "print(total)\n",
        "\n",
        "avg = total / len(result)\n",
        "print(avg)"
      ],
      "metadata": {
        "colab": {
          "base_uri": "https://localhost:8080/"
        },
        "id": "-fzPjLzLvzlU",
        "outputId": "1661f33f-5ae6-45f2-e74f-f1300ef9bc40"
      },
      "execution_count": null,
      "outputs": [
        {
          "output_type": "stream",
          "name": "stdout",
          "text": [
            "[5, 2, 6, 2, 7]\n",
            "22\n",
            "4.4\n"
          ]
        }
      ]
    },
    {
      "cell_type": "markdown",
      "source": [
        "#Ex 2."
      ],
      "metadata": {
        "id": "dhnpdHVU-CQh"
      }
    },
    {
      "cell_type": "code",
      "source": [
        "# Ex 2.\n",
        "\n",
        "numbers = [random.randint(1, 100) for _ in range(10)]\n",
        "print('난수 10개 ' + '=', numbers)\n",
        "\n",
        "evens = [i for i in numbers if i % 2 == 0]\n",
        "print('짝수 ' + '=', evens)\n",
        "\n",
        "odds = [i for i in numbers if i % 2 == 1]\n",
        "print('홀수 ' + '=', odds)"
      ],
      "metadata": {
        "colab": {
          "base_uri": "https://localhost:8080/"
        },
        "id": "bG20eETfyWNr",
        "outputId": "9079f9d1-f4c7-4488-9d93-91db7673869d"
      },
      "execution_count": null,
      "outputs": [
        {
          "output_type": "stream",
          "name": "stdout",
          "text": [
            "난수 10개 = [55, 36, 90, 48, 20, 70, 25, 51, 15, 42]\n",
            "짝수 = [36, 90, 48, 20, 70, 42]\n",
            "홀수 = [55, 25, 51, 15]\n"
          ]
        }
      ]
    },
    {
      "cell_type": "markdown",
      "source": [
        "#Ex 3."
      ],
      "metadata": {
        "id": "tBl4P03d-ENi"
      }
    },
    {
      "cell_type": "code",
      "source": [
        "# Ex 3.\n",
        "\n",
        "x = 1\n",
        "is_positive = True if x > 0 else False # 삼항 연산자\n",
        "\n",
        "is_positive"
      ],
      "metadata": {
        "colab": {
          "base_uri": "https://localhost:8080/"
        },
        "id": "a4U8BSo3zs7z",
        "outputId": "c6189154-2b2c-465e-c1d7-7eb839bd1161"
      },
      "execution_count": null,
      "outputs": [
        {
          "output_type": "execute_result",
          "data": {
            "text/plain": [
              "True"
            ]
          },
          "metadata": {},
          "execution_count": 31
        }
      ]
    },
    {
      "cell_type": "code",
      "source": [
        "numbers = [random.randrange(-10, 11) for _ in range(10)]\n",
        "print(f'numbers = {numbers}')\n",
        "\n",
        "is_positive = [True if i > 0 else False for i in numbers]\n",
        "is_positive"
      ],
      "metadata": {
        "colab": {
          "base_uri": "https://localhost:8080/"
        },
        "id": "nDwb7FQg9Rfq",
        "outputId": "937d71fc-e6f0-45c5-b430-580e1d87fd2e"
      },
      "execution_count": null,
      "outputs": [
        {
          "output_type": "stream",
          "name": "stdout",
          "text": [
            "numbers = [5, -6, 6, -3, -1, 1, 5, 7, -7, 0]\n"
          ]
        },
        {
          "output_type": "execute_result",
          "data": {
            "text/plain": [
              "[True, False, True, False, False, True, True, True, False, False]"
            ]
          },
          "metadata": {},
          "execution_count": 37
        }
      ]
    },
    {
      "cell_type": "markdown",
      "source": [
        "#Ex 4."
      ],
      "metadata": {
        "id": "1G11aOKr-GLs"
      }
    },
    {
      "cell_type": "code",
      "source": [
        "# Ex 4.\n",
        "\n",
        "gender_codes = [random.randrange(0, 2) for _ in range(10)]\n",
        "print(f'gender_codes = {gender_codes}')\n",
        "\n",
        "genders = ['Male' if x == 0 else 'Female' for x in gender_codes]\n",
        "print(f'genders = {genders}')"
      ],
      "metadata": {
        "colab": {
          "base_uri": "https://localhost:8080/"
        },
        "id": "mAHaUY6n781K",
        "outputId": "ee970486-67bf-4ad6-db77-22465e3cf5d3"
      },
      "execution_count": null,
      "outputs": [
        {
          "output_type": "stream",
          "name": "stdout",
          "text": [
            "gender_codes = [1, 0, 0, 1, 0, 0, 0, 1, 1, 1]\n",
            "genders = ['Female', 'Male', 'Male', 'Female', 'Male', 'Male', 'Male', 'Female', 'Female', 'Female']\n"
          ]
        }
      ]
    },
    {
      "cell_type": "markdown",
      "source": [
        "#Ex 5."
      ],
      "metadata": {
        "id": "zX5ZV9NK-H2p"
      }
    },
    {
      "cell_type": "code",
      "source": [
        "# Ex 5.\n",
        "\n",
        "numbers1 = [random.randrange(100) for _ in range(10)]\n",
        "numbers2 = [random.randrange(100) for _ in range(10)]\n",
        "print(f'numbers1 = {numbers1}')\n",
        "print(f'numbers2 = {numbers2}')\n",
        "\n",
        "multiplication = [x * y for x, y in zip(numbers1, numbers2)]\n",
        "print(f'multiplication = {multiplication}')\n",
        "\n",
        "subtraction = [x - y for x, y in zip(numbers1, numbers2)]\n",
        "print(f'subtraction = {subtraction}')"
      ],
      "metadata": {
        "colab": {
          "base_uri": "https://localhost:8080/"
        },
        "id": "6ZC1-sLR79Ih",
        "outputId": "c546d66b-f93c-4026-90d1-647f84583bcd"
      },
      "execution_count": null,
      "outputs": [
        {
          "output_type": "stream",
          "name": "stdout",
          "text": [
            "numbers1 = [1, 49, 71, 84, 14, 42, 30, 96, 53, 49]\n",
            "numbers2 = [14, 1, 10, 78, 71, 50, 65, 11, 58, 22]\n",
            "multiplication = [14, 49, 710, 6552, 994, 2100, 1950, 1056, 3074, 1078]\n",
            "subtraction = [-13, 48, 61, 6, -57, -8, -35, 85, -5, 27]\n"
          ]
        }
      ]
    },
    {
      "cell_type": "code",
      "source": [
        "gender_codes = [1, 2, 1, 2, 3]\n",
        "# 1 -> 'M', 2 -> 'F', 3 -> 'Unknown' mapping\n",
        "# x == 1 ? 'M' : (x == 2 ? 'F' : 'Unknown')\n",
        "\n",
        "genders = ['M' if x == 1 else ('F' if x == 2 else 'Unknown') for x in gender_codes]\n",
        "genders"
      ],
      "metadata": {
        "colab": {
          "base_uri": "https://localhost:8080/"
        },
        "id": "rPJKHW1UA7Gp",
        "outputId": "0b0b558c-cc56-4eca-b6a9-633da9fca15e"
      },
      "execution_count": null,
      "outputs": [
        {
          "output_type": "execute_result",
          "data": {
            "text/plain": [
              "['M', 'F', 'M', 'F', 'Unknown']"
            ]
          },
          "metadata": {},
          "execution_count": 47
        }
      ]
    }
  ]
}