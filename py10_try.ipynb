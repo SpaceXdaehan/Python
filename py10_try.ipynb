{
  "nbformat": 4,
  "nbformat_minor": 0,
  "metadata": {
    "colab": {
      "provenance": [],
      "authorship_tag": "ABX9TyODH//LWWypSEZMDWU2xuk7",
      "include_colab_link": true
    },
    "kernelspec": {
      "name": "python3",
      "display_name": "Python 3"
    },
    "language_info": {
      "name": "python"
    }
  },
  "cells": [
    {
      "cell_type": "markdown",
      "metadata": {
        "id": "view-in-github",
        "colab_type": "text"
      },
      "source": [
        "<a href=\"https://colab.research.google.com/github/SpaceXdaehan/Python/blob/main/py10_try.ipynb\" target=\"_parent\"><img src=\"https://colab.research.google.com/assets/colab-badge.svg\" alt=\"Open In Colab\"/></a>"
      ]
    },
    {
      "cell_type": "markdown",
      "source": [
        "# 오류(Error)처리\n",
        "\n",
        "* 코드에서 오류가 발생한 위치와 원인을 파악해서 오류가 발생하지 않도록 코드를 수정하는 방법.\n",
        "* 오류가 발생하더라도 프로그램이 비정상적으로 종료되지 않고 계속 실행되도록 처리하는 방법. --> (try구문)\n",
        "  * Java는 반드시 try-catch 구문을 사용해야만 하는 Exception 종류들이 있음.\n",
        "    * NullPointerException: try-catch가 필수는 아니다.\n",
        "    * IoException, SQLException, ...: try-catch가 필수.\n",
        "  * Python은 모든 오류처리에서 try-except가 필수는 아니다."
      ],
      "metadata": {
        "id": "7f-fwJlcH8FF"
      }
    },
    {
      "cell_type": "markdown",
      "source": [
        "**Python try-except 구문**\n",
        "\n",
        "```\n",
        "try:\n",
        "  (1) 실행할 코드블록을 작성\n",
        "except [에러 클래스 이름[as 별명(변수이름)]]\n",
        "  (2) 에러가 발생했을 때 실행할 코드 블록을 작성\n",
        "  # else부터는 생략가능\n",
        "[else:\n",
        "  (3) 에러가 발생하지 않았을 때 실행할 코드 블록을 작성]\n",
        "[finally:\n",
        "  (4) try 블록 실행중에 에러 발생 여부와 상관없이 항상 실행할 코드 블록을 작성]\n",
        "```\n",
        "\n",
        "* 에러가 발생하지 않는 경우: (1) -> (3) -> (4) 순서로 코드가 실행됨.\n",
        "* 에러가 발생한 경우: (1) -> (2) -> (4) 순서로 코드가 실행됨.\n",
        "* Except 구문에서 에러 클래스의 이름을 생략하면, 모든 종류의 에러를 잡아서 처리할 수 있음.\n",
        "* 특정 종류의 에러만 처리하고자 할 떄는, except 구문에서 에러 클래스 이름을 명시함."
      ],
      "metadata": {
        "id": "3Nun093RJzxd"
      }
    },
    {
      "cell_type": "code",
      "execution_count": null,
      "metadata": {
        "colab": {
          "base_uri": "https://localhost:8080/"
        },
        "id": "O7fc-mT1HzAK",
        "outputId": "ca0d7989-1763-456b-dc7e-d8054acf7375"
      },
      "outputs": [
        {
          "output_type": "stream",
          "name": "stdout",
          "text": [
            "정수 입력>>> 12.5\n",
            "정수로 입력해야 합니다.\n"
          ]
        }
      ],
      "source": [
        "try:\n",
        "  x = int(input('정수 입력>>> '))\n",
        "  print(x)\n",
        "except:\n",
        "  print('정수로 입력해야 합니다.')"
      ]
    },
    {
      "cell_type": "code",
      "source": [
        "try:\n",
        "  x = int(input('정수를 입력')) # 1\n",
        "except ValueError as e:\n",
        "  print(e) # 2\n",
        "else:\n",
        "  print(f'x={x}') # 3\n",
        "finally:\n",
        "  print('=== end ===') # 4"
      ],
      "metadata": {
        "colab": {
          "base_uri": "https://localhost:8080/"
        },
        "id": "BJIJsW8rMPq3",
        "outputId": "91dbd15d-0b9b-4092-b669-8e81fb82ffd5"
      },
      "execution_count": null,
      "outputs": [
        {
          "output_type": "stream",
          "name": "stdout",
          "text": [
            "정수를 입력0.5\n",
            "invalid literal for int() with base 10: '0.5'\n",
            "=== end ===\n"
          ]
        }
      ]
    },
    {
      "cell_type": "code",
      "source": [
        "try:\n",
        "  x = int(input('정수를 입력')) # 1\n",
        "except ValueError as e:\n",
        "  print(e) # 2\n",
        "else:\n",
        "  print(f'x={x}') # 3\n",
        "finally:\n",
        "  print('=== end ===') # 4"
      ],
      "metadata": {
        "colab": {
          "base_uri": "https://localhost:8080/"
        },
        "id": "smUITFwIOthc",
        "outputId": "9999c8d1-4de3-4ccd-8196-af95da776137"
      },
      "execution_count": null,
      "outputs": [
        {
          "output_type": "stream",
          "name": "stdout",
          "text": [
            "정수를 입력5\n",
            "x=5\n",
            "=== end ===\n"
          ]
        }
      ]
    },
    {
      "cell_type": "markdown",
      "source": [
        "# Ex 1.\n",
        "* 정수 1개를 입력받고, 입력받은 정수를 출력하세요.\n",
        "\n",
        "* 정수로 변환할 수 없는 문자열이 입력된 경우에는 적절한 오류 메시지를 출력한 후 다시 입력을 받아야 함.\n",
        "\n"
      ],
      "metadata": {
        "id": "_G89kZqpS8O8"
      }
    },
    {
      "cell_type": "code",
      "source": [
        "for x in range(100):\n",
        "  try:\n",
        "    x = int(input('정수를 입력'))\n",
        "    print(f'x={x}')\n",
        "  except:\n",
        "   print('정수만 입력하세요')\n",
        "  else:\n",
        "    break"
      ],
      "metadata": {
        "colab": {
          "base_uri": "https://localhost:8080/"
        },
        "id": "jHC4a4HkS_Ql",
        "outputId": "fee9a650-e54b-4429-c904-5004a31a31fc"
      },
      "execution_count": null,
      "outputs": [
        {
          "name": "stdout",
          "output_type": "stream",
          "text": [
            "정수를 입력0.5\n",
            "정수를 입력하세요\n",
            "정수를 입력0.5\n",
            "정수를 입력하세요\n",
            "정수를 입력0.5\n",
            "정수를 입력하세요\n",
            "정수를 입력0.5\n",
            "정수를 입력하세요\n",
            "정수를 입력0.5\n",
            "정수를 입력하세요\n",
            "정수를 입력0.5\n",
            "정수를 입력하세요\n",
            "정수를 입력5\n"
          ]
        }
      ]
    },
    {
      "cell_type": "code",
      "source": [
        "while True: # 무한 반복문 - 정술ㄹ 입력받았을 때 출력하고 반복문 종료\n",
        "  try:\n",
        "    n = int(input('정수를 입력하세요'))\n",
        "    print(f'n={n}')\n",
        "    break\n",
        "  except:\n",
        "    print('정수만 입력해야됩니다')"
      ],
      "metadata": {
        "colab": {
          "base_uri": "https://localhost:8080/"
        },
        "id": "izvNuYN8Xf8z",
        "outputId": "52224d61-4f48-4cb7-9f57-2eccc735ab29"
      },
      "execution_count": null,
      "outputs": [
        {
          "output_type": "stream",
          "name": "stdout",
          "text": [
            "정수를 입력하세요0.5\n",
            "정수만 입력해야됩니다\n",
            "정수를 입력하세요.05\n",
            "정수만 입력해야됩니다\n",
            "정수를 입력하세요.05\n",
            "정수만 입력해야됩니다\n",
            "정수를 입력하세요0.5\n",
            "정수만 입력해야됩니다\n",
            "정수를 입력하세요5\n",
            "n=5\n"
          ]
        }
      ]
    },
    {
      "cell_type": "markdown",
      "source": [
        "# Ex 2. 단어 개수 세기\n",
        "\n",
        "* 리스트 words가 가지고 있는 단어들을 key로 하고, 그 단어가 리스트에 나오는 횟수를 값으로 하는 dict를 생성하고 출력하세요."
      ],
      "metadata": {
        "id": "_goX8YJdS_ec"
      }
    },
    {
      "cell_type": "code",
      "source": [
        "words = ['java', 'python', 'javascript', 'python', 'sql', 'java', 'python']\n",
        "#> 결과: {'java': 2, 'python': 3, 'javascript': 1, 'sql': 1}"
      ],
      "metadata": {
        "id": "t8HbKjypTTOz"
      },
      "execution_count": null,
      "outputs": []
    },
    {
      "cell_type": "code",
      "source": [
        "word_counts = {} # 단어/단어 빈도수를 저장할 빈 dic\n",
        "for w in words: # 리스트 words에서 단어를 순서대로 꺼내서 반복하면서\n",
        "  if w in word_counts: # 단어 w가 dic의 키(key)로 존재하면\n",
        "    word_counts[w] += 1 # 기존 단어의 빈도수를 1증가\n",
        "  else: # 리스트의 단어 w가 아직 dic의 키로 존재하지 않을 때 (단어를 처음 발견했을 때)\n",
        "    word_counts[w] = 1\n",
        "  print(word_counts)"
      ],
      "metadata": {
        "colab": {
          "base_uri": "https://localhost:8080/"
        },
        "id": "3GU1ToG0Y287",
        "outputId": "d8b2dc57-7a68-40b2-fb52-ca3397a37ff2"
      },
      "execution_count": null,
      "outputs": [
        {
          "output_type": "stream",
          "name": "stdout",
          "text": [
            "{'java': 1}\n",
            "{'java': 1, 'python': 1}\n",
            "{'java': 1, 'python': 1, 'javascript': 1}\n",
            "{'java': 1, 'python': 2, 'javascript': 1}\n",
            "{'java': 1, 'python': 2, 'javascript': 1, 'sql': 1}\n",
            "{'java': 2, 'python': 2, 'javascript': 1, 'sql': 1}\n",
            "{'java': 2, 'python': 3, 'javascript': 1, 'sql': 1}\n"
          ]
        }
      ]
    },
    {
      "cell_type": "code",
      "source": [
        "word_counts"
      ],
      "metadata": {
        "colab": {
          "base_uri": "https://localhost:8080/"
        },
        "id": "c0TPWTiUaWkm",
        "outputId": "422b55cc-3de0-432c-8ee9-a4626c49041b"
      },
      "execution_count": null,
      "outputs": [
        {
          "output_type": "execute_result",
          "data": {
            "text/plain": [
              "{'java': 2, 'python': 3, 'javascript': 1, 'sql': 1}"
            ]
          },
          "metadata": {},
          "execution_count": 7
        }
      ]
    },
    {
      "cell_type": "code",
      "source": [
        "word_counts = {}\n",
        "for w in words:\n",
        "  try:\n",
        "    word_counts[w] += 1 # 기존 키를 갖는 아이템 값을 변경\n",
        "  except:\n",
        "    word_counts[w] = 1 # 새로운 키-값 아이템을 추가\n",
        "print(word_counts)"
      ],
      "metadata": {
        "colab": {
          "base_uri": "https://localhost:8080/"
        },
        "id": "aGqvegdsaZdC",
        "outputId": "b571a23d-5ddc-4cf7-da92-add30691e69d"
      },
      "execution_count": null,
      "outputs": [
        {
          "output_type": "stream",
          "name": "stdout",
          "text": [
            "{'java': 2, 'python': 3, 'javascript': 1, 'sql': 1}\n"
          ]
        }
      ]
    },
    {
      "cell_type": "code",
      "source": [
        "# collections 모듈에서 defaultdict 함수를 임포트 해야함\n",
        "from collections import defaultdict"
      ],
      "metadata": {
        "id": "Tjm8r45Lc51r"
      },
      "execution_count": null,
      "outputs": []
    },
    {
      "cell_type": "code",
      "source": [
        "word_counts2 = defaultdict(int)\n",
        "for w in words:\n",
        "  word_counts2[w] += 1\n",
        "print(word_counts2)"
      ],
      "metadata": {
        "colab": {
          "base_uri": "https://localhost:8080/"
        },
        "id": "T_bhCf05dp_G",
        "outputId": "44cbe323-02d1-48b8-cc58-bfb72c6d4b5d"
      },
      "execution_count": null,
      "outputs": [
        {
          "output_type": "stream",
          "name": "stdout",
          "text": [
            "defaultdict(<class 'int'>, {'java': 2, 'python': 3, 'javascript': 1, 'sql': 1})\n"
          ]
        }
      ]
    },
    {
      "cell_type": "code",
      "source": [],
      "metadata": {
        "id": "fD2tVxt-eI3v"
      },
      "execution_count": null,
      "outputs": []
    }
  ]
}