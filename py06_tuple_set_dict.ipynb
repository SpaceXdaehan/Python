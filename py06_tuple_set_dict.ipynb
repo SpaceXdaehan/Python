{
  "nbformat": 4,
  "nbformat_minor": 0,
  "metadata": {
    "colab": {
      "provenance": [],
      "toc_visible": true,
      "authorship_tag": "ABX9TyNY+VzrOAjW1C10Ml4RPFG1",
      "include_colab_link": true
    },
    "kernelspec": {
      "name": "python3",
      "display_name": "Python 3"
    },
    "language_info": {
      "name": "python"
    }
  },
  "cells": [
    {
      "cell_type": "markdown",
      "metadata": {
        "id": "view-in-github",
        "colab_type": "text"
      },
      "source": [
        "<a href=\"https://colab.research.google.com/github/SpaceXdaehan/Python/blob/main/py06_tuple_set_dict.ipynb\" target=\"_parent\"><img src=\"https://colab.research.google.com/assets/colab-badge.svg\" alt=\"Open In Colab\"/></a>"
      ]
    },
    {
      "cell_type": "markdown",
      "source": [
        "# Tuple(튜플)\n",
        "\n",
        "* 하나의 변수에 여러 개의 값들을 저장하기 위한 자료 타입.\n",
        "* 저장된 원소(아이템)들을 변경할 수 없는 리스트.\n",
        "  * `append()`, `remove()`와 같은 원소를 변경하는 메서드(기능)은 제공하지 않음.\n",
        "* 인덱스 기반 자료 타입\n",
        "  * indexing, slicing\n",
        "  * 음수 인덱스도 사용 가능\n"
      ],
      "metadata": {
        "id": "SM6H0rcwsG1s"
      }
    },
    {
      "cell_type": "code",
      "execution_count": null,
      "metadata": {
        "id": "DORY0YgGsFqt",
        "colab": {
          "base_uri": "https://localhost:8080/"
        },
        "outputId": "07f93bda-8c14-40c4-b6e8-57489b49be63"
      },
      "outputs": [
        {
          "output_type": "execute_result",
          "data": {
            "text/plain": [
              "(1, 2, 10, 20, 100, 200)"
            ]
          },
          "metadata": {},
          "execution_count": 3
        }
      ],
      "source": [
        "# 숫자들을 저장하는 튜플\n",
        "numbers = (1, 2, 10, 20, 100, 200)\n",
        "numbers"
      ]
    },
    {
      "cell_type": "code",
      "source": [
        "type(numbers)"
      ],
      "metadata": {
        "colab": {
          "base_uri": "https://localhost:8080/"
        },
        "id": "H5TMB4OqYUBb",
        "outputId": "5a196c1a-645a-4fca-82bc-226aa74e8f8f"
      },
      "execution_count": null,
      "outputs": [
        {
          "output_type": "execute_result",
          "data": {
            "text/plain": [
              "tuple"
            ]
          },
          "metadata": {},
          "execution_count": 5
        }
      ]
    },
    {
      "cell_type": "markdown",
      "source": [
        "indexing: 인덱스를 사용해서 원소 1개를 참조하는 방법."
      ],
      "metadata": {
        "id": "xMk4ZODyYvGN"
      }
    },
    {
      "cell_type": "code",
      "source": [
        "numbers[0] # 튜플에 첫번째 원소"
      ],
      "metadata": {
        "colab": {
          "base_uri": "https://localhost:8080/"
        },
        "id": "bK2G2fePYVkE",
        "outputId": "0b02c3c4-95b2-418f-fd91-b008904a9fdb"
      },
      "execution_count": null,
      "outputs": [
        {
          "output_type": "execute_result",
          "data": {
            "text/plain": [
              "1"
            ]
          },
          "metadata": {},
          "execution_count": 9
        }
      ]
    },
    {
      "cell_type": "code",
      "source": [
        "numbers[-1] # 튜플의 마지막 원소"
      ],
      "metadata": {
        "colab": {
          "base_uri": "https://localhost:8080/"
        },
        "id": "QKMW9EkwZHCU",
        "outputId": "55962003-65d6-447d-d22e-eb7c7a0be666"
      },
      "execution_count": null,
      "outputs": [
        {
          "output_type": "execute_result",
          "data": {
            "text/plain": [
              "200"
            ]
          },
          "metadata": {},
          "execution_count": 11
        }
      ]
    },
    {
      "cell_type": "markdown",
      "source": [
        "slicing: 자르기. 부분집합"
      ],
      "metadata": {
        "id": "fPcQKC9zZQps"
      }
    },
    {
      "cell_type": "code",
      "source": [
        "# 튜플에서 앞에서 첫 3개의 원소들을 잘라내기, [start, end)\n",
        "\n",
        "numbers[:3]"
      ],
      "metadata": {
        "colab": {
          "base_uri": "https://localhost:8080/"
        },
        "id": "3f5ni9nwZLOh",
        "outputId": "e6909d82-4b76-40d9-c487-325dd3ae9e61"
      },
      "execution_count": null,
      "outputs": [
        {
          "output_type": "execute_result",
          "data": {
            "text/plain": [
              "(1, 2, 10)"
            ]
          },
          "metadata": {},
          "execution_count": 12
        }
      ]
    },
    {
      "cell_type": "code",
      "source": [
        "# 튜플에서 뒤에서 3개의 원소들을 잘라내기\n",
        "\n",
        "numbers[-3:]"
      ],
      "metadata": {
        "colab": {
          "base_uri": "https://localhost:8080/"
        },
        "id": "geX7-iGzZchH",
        "outputId": "c963172d-2aae-499b-82bf-8bf14eb0b851"
      },
      "execution_count": null,
      "outputs": [
        {
          "output_type": "execute_result",
          "data": {
            "text/plain": [
              "(20, 100, 200)"
            ]
          },
          "metadata": {},
          "execution_count": 14
        }
      ]
    },
    {
      "cell_type": "markdown",
      "source": [
        "## decomposition(분해)"
      ],
      "metadata": {
        "id": "ztnXCvw_Z5CU"
      }
    },
    {
      "cell_type": "code",
      "source": [
        "odds = (1, 3, 5)\n",
        "a = odds[0]\n",
        "b = odds[1]\n",
        "c = odds[2]\n",
        "print(a, b, c)"
      ],
      "metadata": {
        "colab": {
          "base_uri": "https://localhost:8080/"
        },
        "id": "uBO7EdA5ZlcS",
        "outputId": "dc491344-1e8a-4479-b60f-7b1840221331"
      },
      "execution_count": null,
      "outputs": [
        {
          "output_type": "stream",
          "name": "stdout",
          "text": [
            "1 3 5\n"
          ]
        }
      ]
    },
    {
      "cell_type": "code",
      "source": [
        "x, y = (1, 3)\n",
        "x, y"
      ],
      "metadata": {
        "colab": {
          "base_uri": "https://localhost:8080/"
        },
        "id": "s0P9hAfrah35",
        "outputId": "39121fa6-56ad-4f86-9c56-55e2cc0c507a"
      },
      "execution_count": null,
      "outputs": [
        {
          "output_type": "execute_result",
          "data": {
            "text/plain": [
              "(1, 3)"
            ]
          },
          "metadata": {},
          "execution_count": 18
        }
      ]
    },
    {
      "cell_type": "markdown",
      "source": [
        "tuple & for"
      ],
      "metadata": {
        "id": "oxEj2ADUbQq0"
      }
    },
    {
      "cell_type": "code",
      "source": [
        "for x in odds:\n",
        "  print(x)"
      ],
      "metadata": {
        "colab": {
          "base_uri": "https://localhost:8080/"
        },
        "id": "9Tpldz4VanNf",
        "outputId": "77c77bf4-8f01-4758-9364-a18bdbfe1a33"
      },
      "execution_count": null,
      "outputs": [
        {
          "output_type": "stream",
          "name": "stdout",
          "text": [
            "1\n",
            "3\n",
            "5\n"
          ]
        }
      ]
    },
    {
      "cell_type": "markdown",
      "source": [
        "# 2차원 리스트 / 튜플"
      ],
      "metadata": {
        "id": "XbhdzUPucBPk"
      }
    },
    {
      "cell_type": "code",
      "source": [
        "numbers = [\n",
        "      [1, 2, 3],\n",
        "      [4, 5, 6]\n",
        "]\n",
        "numbers"
      ],
      "metadata": {
        "colab": {
          "base_uri": "https://localhost:8080/"
        },
        "id": "CdvHRo5qcFWV",
        "outputId": "ee9dc1c1-3fe1-49d3-93f3-a5905f1efd63"
      },
      "execution_count": null,
      "outputs": [
        {
          "output_type": "execute_result",
          "data": {
            "text/plain": [
              "[[1, 2, 3], [4, 5, 6]]"
            ]
          },
          "metadata": {},
          "execution_count": 21
        }
      ]
    },
    {
      "cell_type": "code",
      "source": [
        "len(numbers) # 2차원 리스트 numbers의 원소 개수"
      ],
      "metadata": {
        "colab": {
          "base_uri": "https://localhost:8080/"
        },
        "id": "KezvJWI7dJcE",
        "outputId": "ffa31bba-98b3-42f5-a2ff-2f99effa4901"
      },
      "execution_count": null,
      "outputs": [
        {
          "output_type": "execute_result",
          "data": {
            "text/plain": [
              "2"
            ]
          },
          "metadata": {},
          "execution_count": 23
        }
      ]
    },
    {
      "cell_type": "code",
      "source": [
        "numbers[0]"
      ],
      "metadata": {
        "colab": {
          "base_uri": "https://localhost:8080/"
        },
        "id": "QMRdOEzgdfvc",
        "outputId": "495d4daf-6aa4-479e-81ef-0ebe2a43da2f"
      },
      "execution_count": null,
      "outputs": [
        {
          "output_type": "execute_result",
          "data": {
            "text/plain": [
              "[1, 2, 3]"
            ]
          },
          "metadata": {},
          "execution_count": 24
        }
      ]
    },
    {
      "cell_type": "code",
      "source": [
        "numbers[0][1]"
      ],
      "metadata": {
        "colab": {
          "base_uri": "https://localhost:8080/"
        },
        "id": "_JwQ_dCjdhJ6",
        "outputId": "867f34d4-cae4-4145-82c0-c3a36ac741eb"
      },
      "execution_count": null,
      "outputs": [
        {
          "output_type": "execute_result",
          "data": {
            "text/plain": [
              "2"
            ]
          },
          "metadata": {},
          "execution_count": 29
        }
      ]
    },
    {
      "cell_type": "markdown",
      "source": [
        "# Ex.\n",
        "1. 2x2 모양의 [0, 10) 범위의 정수 난수들을 저장하는 2차원 리스트 array1을 만들고.\n",
        "1. 2x2 모양의 [0, 10) 범위의 정수 난수들을 저장하는 2차원 리스트 array2를 만들고.\n",
        "1. array1과 array2의 같은 인덱스의 원소들끼리의 덧셈 결과를 저장하는 2차원 리스트 add를 만들고 출력."
      ],
      "metadata": {
        "id": "Q6aYOnb7d1X_"
      }
    },
    {
      "cell_type": "code",
      "source": [
        "import random\n",
        "\n",
        "array1 = [] # 1차원 리스트들을 저장할 빈 리스트.\n",
        "for _ in range(2):  # 2번 반복\n",
        "  row = [] # 난수들을 저장할 빈 리스트\n",
        "  for _ in range(2): # 2번 반복\n",
        "    row.append(random.randrange(10)) # 난수를 row에 추가(append).\n",
        "  array1.append(row) # 난수 2개를 갖는 1차원 리스트를 array1에 추가한다.\n",
        "array1"
      ],
      "metadata": {
        "colab": {
          "base_uri": "https://localhost:8080/"
        },
        "id": "ATp0QUjdek0c",
        "outputId": "8cc27f04-712a-4ef9-a577-757b4607bda6"
      },
      "execution_count": null,
      "outputs": [
        {
          "output_type": "execute_result",
          "data": {
            "text/plain": [
              "[[4, 7], [3, 8]]"
            ]
          },
          "metadata": {},
          "execution_count": 39
        }
      ]
    },
    {
      "cell_type": "code",
      "source": [
        "array2 = [ [random.randrange(10) for _ in range(2)] for _ in range(2)]\n",
        "array2"
      ],
      "metadata": {
        "colab": {
          "base_uri": "https://localhost:8080/"
        },
        "id": "eIF27QPxl8Tf",
        "outputId": "443a1f7b-6c06-4774-d0c4-b9a2bb5e040f"
      },
      "execution_count": null,
      "outputs": [
        {
          "output_type": "execute_result",
          "data": {
            "text/plain": [
              "[[6, 9], [0, 4]]"
            ]
          },
          "metadata": {},
          "execution_count": 41
        }
      ]
    },
    {
      "cell_type": "code",
      "source": [
        "add = []  # 1차원 배열들을 저장할 빈 배열\n",
        "for row1, row2 in zip(array1, array2):\n",
        "  # print(row1, row2)\n",
        "  temp = [] # 덧셈 결과를 저장할 빈 배열\n",
        "  for x, y in zip(row1, row2):\n",
        "    temp.append(x + y)\n",
        "  add.append(temp)\n",
        "print(add)"
      ],
      "metadata": {
        "colab": {
          "base_uri": "https://localhost:8080/"
        },
        "id": "Ts0EcIOwme8F",
        "outputId": "6e559029-eb41-48e3-fde0-829132cede9c"
      },
      "execution_count": null,
      "outputs": [
        {
          "output_type": "stream",
          "name": "stdout",
          "text": [
            "[[10, 16], [3, 12]]\n"
          ]
        }
      ]
    },
    {
      "cell_type": "code",
      "source": [
        " [[x + y for x, y in zip(row1, row2)]\n",
        " for row1, row2 in zip(array1, array2)]"
      ],
      "metadata": {
        "colab": {
          "base_uri": "https://localhost:8080/"
        },
        "id": "gSfdDV-Up2rr",
        "outputId": "925ebca7-5294-4170-e57f-8cdd6e125bde"
      },
      "execution_count": null,
      "outputs": [
        {
          "output_type": "execute_result",
          "data": {
            "text/plain": [
              "[[10, 16], [3, 12]]"
            ]
          },
          "metadata": {},
          "execution_count": 78
        }
      ]
    },
    {
      "cell_type": "markdown",
      "source": [
        "# Set(집합)\n",
        "\n",
        "* 중복된 데이터를 허용하지 않는다: `{1, 2, 2, 3, 3} = {1, 2, 3}`\n",
        "* 인덱스 기반의 자료 구조가 아님. 인덱스가 없음.\n",
        "  * 데이터의 저장 순서가 중요하지 않음: `{1, 2, 3} = {3, 1, 2}`\n",
        "  * 인덱스가 없기 때문에 indexing과 slicing 기능을 제공하지 않음.\n",
        "  * for - in 구문에서는 사용할 수 있는 iterable 타입."
      ],
      "metadata": {
        "id": "ngZtCDWSqM3T"
      }
    },
    {
      "cell_type": "code",
      "source": [
        "s = {1, 2, 2, 3, 3}\n",
        "s"
      ],
      "metadata": {
        "colab": {
          "base_uri": "https://localhost:8080/"
        },
        "id": "5rx7O5iprRqM",
        "outputId": "753b449f-9537-420e-eb9f-58ef3be92ad5"
      },
      "execution_count": null,
      "outputs": [
        {
          "output_type": "execute_result",
          "data": {
            "text/plain": [
              "{1, 2, 3}"
            ]
          },
          "metadata": {},
          "execution_count": 52
        }
      ]
    },
    {
      "cell_type": "code",
      "source": [
        "type(s)"
      ],
      "metadata": {
        "colab": {
          "base_uri": "https://localhost:8080/"
        },
        "id": "cnPAU0rSrn2l",
        "outputId": "ce731365-951d-4c0e-9086-ef5f35dd1f9c"
      },
      "execution_count": null,
      "outputs": [
        {
          "output_type": "execute_result",
          "data": {
            "text/plain": [
              "set"
            ]
          },
          "metadata": {},
          "execution_count": 54
        }
      ]
    },
    {
      "cell_type": "markdown",
      "source": [
        "## Set의 기능(메서드)"
      ],
      "metadata": {
        "id": "SoOTroeVruwK"
      }
    },
    {
      "cell_type": "code",
      "source": [
        "s.add(5) # set에 새로운 원소를 추가\n",
        "s"
      ],
      "metadata": {
        "colab": {
          "base_uri": "https://localhost:8080/"
        },
        "id": "r4g22I0jrpK6",
        "outputId": "3542621b-3812-4e54-c1f5-04c12442390a"
      },
      "execution_count": null,
      "outputs": [
        {
          "output_type": "execute_result",
          "data": {
            "text/plain": [
              "{1, 2, 3, 5}"
            ]
          },
          "metadata": {},
          "execution_count": 57
        }
      ]
    },
    {
      "cell_type": "code",
      "source": [
        "s.add(5) # 중복된 값은 허용하지 않기 때문에 원소가 늘어나지 않음.\n",
        "s"
      ],
      "metadata": {
        "colab": {
          "base_uri": "https://localhost:8080/"
        },
        "id": "0nc6xE7XsNQA",
        "outputId": "1c9f7513-3c60-4afd-9c92-b50a1e54e1d2"
      },
      "execution_count": null,
      "outputs": [
        {
          "output_type": "execute_result",
          "data": {
            "text/plain": [
              "{1, 2, 3, 5}"
            ]
          },
          "metadata": {},
          "execution_count": 59
        }
      ]
    },
    {
      "cell_type": "code",
      "source": [
        "s.remove(1) # set의 원소를 삭제. 삭제할 원소를 아규먼트로 전달.\n",
        "s"
      ],
      "metadata": {
        "colab": {
          "base_uri": "https://localhost:8080/"
        },
        "id": "76PD-j0ysXaz",
        "outputId": "48bd15b4-48be-4452-c326-9718735067e8"
      },
      "execution_count": null,
      "outputs": [
        {
          "output_type": "execute_result",
          "data": {
            "text/plain": [
              "{3, 5}"
            ]
          },
          "metadata": {},
          "execution_count": 64
        }
      ]
    },
    {
      "cell_type": "code",
      "source": [
        "s.pop() # set의 원소중\n",
        "s"
      ],
      "metadata": {
        "colab": {
          "base_uri": "https://localhost:8080/"
        },
        "id": "m7oVuqT6sb-T",
        "outputId": "775ee49e-c32d-42fe-9518-d7eeecd67254"
      },
      "execution_count": null,
      "outputs": [
        {
          "output_type": "execute_result",
          "data": {
            "text/plain": [
              "set()"
            ]
          },
          "metadata": {},
          "execution_count": 66
        }
      ]
    },
    {
      "cell_type": "code",
      "source": [
        "s1 = {1, 2, 3, 4}\n",
        "s2 = {2, 3, 5, 6}\n",
        "\n",
        "s1.union(s2) # 합집합"
      ],
      "metadata": {
        "colab": {
          "base_uri": "https://localhost:8080/"
        },
        "id": "uwj0-GFJtbmn",
        "outputId": "505f6a9a-e396-4d17-99c4-e24966730b2a"
      },
      "execution_count": null,
      "outputs": [
        {
          "output_type": "execute_result",
          "data": {
            "text/plain": [
              "{1, 2, 3, 4, 5, 6}"
            ]
          },
          "metadata": {},
          "execution_count": 68
        }
      ]
    },
    {
      "cell_type": "code",
      "source": [
        "s1.intersection(s2) # 교집합"
      ],
      "metadata": {
        "colab": {
          "base_uri": "https://localhost:8080/"
        },
        "id": "yFnLtYxjthBV",
        "outputId": "564f0a0d-b14e-4f15-ca88-976382af448a"
      },
      "execution_count": null,
      "outputs": [
        {
          "output_type": "execute_result",
          "data": {
            "text/plain": [
              "{2, 3}"
            ]
          },
          "metadata": {},
          "execution_count": 70
        }
      ]
    },
    {
      "cell_type": "code",
      "source": [
        "s1.difference(s2) # 차집합: s1 - s2\n",
        "s2.difference(s1) # s2 - s1"
      ],
      "metadata": {
        "colab": {
          "base_uri": "https://localhost:8080/"
        },
        "id": "jgHVJoUmtt_8",
        "outputId": "6ba09ad8-bca7-4071-d9cd-663eb535e283"
      },
      "execution_count": null,
      "outputs": [
        {
          "output_type": "execute_result",
          "data": {
            "text/plain": [
              "{5, 6}"
            ]
          },
          "metadata": {},
          "execution_count": 73
        }
      ]
    },
    {
      "cell_type": "markdown",
      "source": [
        "#dict\n",
        "\n",
        "* dictionary(사전) 형식의 데이터 타입.\n",
        "* 키(key)를 기반으로 값(value)을 저장하는 데이터 타입.\n",
        "  * list, tuple: 인덱스 기반의 데이터 타입.\n",
        "  * dict: key-value 기반의 데이터 타입.\n",
        "  * dict에서 key의 역할은 1개 아이템의 값(value)를 찾기 위한 용도."
      ],
      "metadata": {
        "id": "vaiLu7zAuJoq"
      }
    },
    {
      "cell_type": "code",
      "source": [
        "students = {1: '지대한', 2: '찬', 3: '훈'}\n",
        "students"
      ],
      "metadata": {
        "colab": {
          "base_uri": "https://localhost:8080/"
        },
        "id": "Ns5_hciFtzOW",
        "outputId": "eec9b2fd-47f3-4d30-8012-d0de1ff7a99d"
      },
      "execution_count": null,
      "outputs": [
        {
          "output_type": "execute_result",
          "data": {
            "text/plain": [
              "{1: '지대한', 2: '찬', 3: '훈'}"
            ]
          },
          "metadata": {},
          "execution_count": 75
        }
      ]
    },
    {
      "cell_type": "code",
      "source": [
        "type(students)"
      ],
      "metadata": {
        "colab": {
          "base_uri": "https://localhost:8080/"
        },
        "id": "6fHyTNp4zuyA",
        "outputId": "448a8b8b-b07c-46db-c736-9a438dd6d6b5"
      },
      "execution_count": null,
      "outputs": [
        {
          "output_type": "execute_result",
          "data": {
            "text/plain": [
              "dict"
            ]
          },
          "metadata": {},
          "execution_count": 76
        }
      ]
    },
    {
      "cell_type": "markdown",
      "source": [
        "`dict`에서 키를 사용하는 방법은 `list` 또는 `tuple`과 마찬가지로 인덱스 연산자(`[]`)를 사용함."
      ],
      "metadata": {
        "id": "J2CjShW_0HxJ"
      }
    },
    {
      "cell_type": "code",
      "source": [
        "students[1] # dict에서 key가 1인 아이템의 value를 찾음."
      ],
      "metadata": {
        "colab": {
          "base_uri": "https://localhost:8080/",
          "height": 35
        },
        "id": "bqrV2hlP0pAC",
        "outputId": "ce23d5ea-0510-4926-8198-2fcfea84d58d"
      },
      "execution_count": null,
      "outputs": [
        {
          "output_type": "execute_result",
          "data": {
            "text/plain": [
              "'지대한'"
            ],
            "application/vnd.google.colaboratory.intrinsic+json": {
              "type": "string"
            }
          },
          "metadata": {},
          "execution_count": 80
        }
      ]
    },
    {
      "cell_type": "code",
      "source": [
        "students[10] = '대한' # dict에 새로운 key-value 아이템을 추가\n",
        "students # key는 겹칠 수가 없음"
      ],
      "metadata": {
        "colab": {
          "base_uri": "https://localhost:8080/"
        },
        "id": "Jbrn4CZB01dR",
        "outputId": "5dac650f-4551-4911-f1be-3e0225837057"
      },
      "execution_count": null,
      "outputs": [
        {
          "output_type": "execute_result",
          "data": {
            "text/plain": [
              "{1: '지대한', 2: '찬', 3: '훈', 10: '대한'}"
            ]
          },
          "metadata": {},
          "execution_count": 82
        }
      ]
    },
    {
      "cell_type": "code",
      "source": [
        "students[3] = 'Hi' # dict에서 key에 해당하는 기존에 있던 value 값을 바꿈\n",
        "students"
      ],
      "metadata": {
        "colab": {
          "base_uri": "https://localhost:8080/"
        },
        "id": "mgAyUYCV1Cun",
        "outputId": "304befb0-2982-4291-b114-ceea51532be2"
      },
      "execution_count": null,
      "outputs": [
        {
          "output_type": "execute_result",
          "data": {
            "text/plain": [
              "{1: '지대한', 2: '찬', 3: 'Hi', 10: '대한'}"
            ]
          },
          "metadata": {},
          "execution_count": 84
        }
      ]
    },
    {
      "cell_type": "code",
      "source": [
        "students.pop(2) # dict에서 해당하는 key의 아이템(key : value)을 삭제\n",
        "students"
      ],
      "metadata": {
        "colab": {
          "base_uri": "https://localhost:8080/"
        },
        "id": "fu1U-_Hu11Fh",
        "outputId": "21391804-b02e-49d4-9abf-01686f5c2992"
      },
      "execution_count": null,
      "outputs": [
        {
          "output_type": "execute_result",
          "data": {
            "text/plain": [
              "{1: '지대한', 10: '대한'}"
            ]
          },
          "metadata": {},
          "execution_count": 90
        }
      ]
    },
    {
      "cell_type": "code",
      "source": [
        "book = {\n",
        "    'title': '점프 투 파이썬',\n",
        "    'content': 'Python',\n",
        "    'authors': ['대한', '지대한']\n",
        "}\n",
        "book"
      ],
      "metadata": {
        "colab": {
          "base_uri": "https://localhost:8080/"
        },
        "id": "NTc7U4Id2tRN",
        "outputId": "47dc7bea-d28f-4283-a0ca-39cbe4b46c62"
      },
      "execution_count": null,
      "outputs": [
        {
          "output_type": "execute_result",
          "data": {
            "text/plain": [
              "{'title': '점프 투 파이썬', 'content': 'Python', 'authors': ['대한', '지대한']}"
            ]
          },
          "metadata": {},
          "execution_count": 95
        }
      ]
    },
    {
      "cell_type": "code",
      "source": [
        "book['authors']"
      ],
      "metadata": {
        "colab": {
          "base_uri": "https://localhost:8080/"
        },
        "id": "Xd74IY5b3yaI",
        "outputId": "175452d8-ec4b-40d8-e14d-f1724b258312"
      },
      "execution_count": null,
      "outputs": [
        {
          "output_type": "execute_result",
          "data": {
            "text/plain": [
              "['대한', '지대한']"
            ]
          },
          "metadata": {},
          "execution_count": 96
        }
      ]
    },
    {
      "cell_type": "markdown",
      "source": [
        "#dict % for"
      ],
      "metadata": {
        "id": "pNWsSmns34sZ"
      }
    },
    {
      "cell_type": "code",
      "source": [
        "contact = {\n",
        "    'no': 1,\n",
        "    'name': '대한',\n",
        "    'phones': ['1234', '5678'],\n",
        "    'emails': {'naver': 'naver', 'google': 'google', 'kakao': 'kakao'},\n",
        "}\n",
        "contact"
      ],
      "metadata": {
        "colab": {
          "base_uri": "https://localhost:8080/"
        },
        "id": "gHxdvIkJ32iz",
        "outputId": "bc46ecdf-c302-4eae-cb8f-c14ba312d650"
      },
      "execution_count": null,
      "outputs": [
        {
          "output_type": "execute_result",
          "data": {
            "text/plain": [
              "{'no': 1,\n",
              " 'name': '대한',\n",
              " 'phones': ['1234', '5678'],\n",
              " 'emails': {'naver': 'naver', 'google': 'google', 'kakao': 'kakao'}}"
            ]
          },
          "metadata": {},
          "execution_count": 106
        }
      ]
    },
    {
      "cell_type": "markdown",
      "source": [
        "for-in 구문에서 dict를 사용하면 dict가 가지고 있는 key를 iteration한다."
      ],
      "metadata": {
        "id": "-6KKJNlx41aw"
      }
    },
    {
      "cell_type": "code",
      "source": [
        "for k in contact:\n",
        "  print(k)"
      ],
      "metadata": {
        "colab": {
          "base_uri": "https://localhost:8080/"
        },
        "id": "0bgjLYpT4dJ7",
        "outputId": "b50c4637-7875-42c6-f0cb-45bcf834b25f"
      },
      "execution_count": null,
      "outputs": [
        {
          "output_type": "stream",
          "name": "stdout",
          "text": [
            "no\n",
            "name\n",
            "phones\n",
            "emails\n"
          ]
        }
      ]
    },
    {
      "cell_type": "code",
      "source": [
        "for k in contact:\n",
        "  print(k, ':', contact[k])"
      ],
      "metadata": {
        "colab": {
          "base_uri": "https://localhost:8080/"
        },
        "id": "5SzFrrRi4mIz",
        "outputId": "2b22852d-73b9-4f65-cca2-3de2e0ed7645"
      },
      "execution_count": null,
      "outputs": [
        {
          "output_type": "stream",
          "name": "stdout",
          "text": [
            "no : 1\n",
            "name : 대한\n",
            "phones : ['1234', '5678']\n",
            "emails : {'naver': 'naver', 'google': 'google', 'kakao': 'kakao'}\n"
          ]
        }
      ]
    },
    {
      "cell_type": "code",
      "source": [
        "contact.keys() # dict의 key들의 리스트를 리턴."
      ],
      "metadata": {
        "colab": {
          "base_uri": "https://localhost:8080/"
        },
        "id": "H6PhJVy75fpI",
        "outputId": "fb61e26b-c0b1-4ebc-8d0a-df89424041e4"
      },
      "execution_count": null,
      "outputs": [
        {
          "output_type": "execute_result",
          "data": {
            "text/plain": [
              "dict_keys(['no', 'name', 'phones', 'emails'])"
            ]
          },
          "metadata": {},
          "execution_count": 108
        }
      ]
    },
    {
      "cell_type": "code",
      "source": [
        "contact.values()  # dict의 value들의 리스트를 리턴."
      ],
      "metadata": {
        "colab": {
          "base_uri": "https://localhost:8080/"
        },
        "id": "CBj9w61i5yCu",
        "outputId": "6ae8f2fa-56d4-41d4-afc9-70a926b14e4b"
      },
      "execution_count": null,
      "outputs": [
        {
          "output_type": "execute_result",
          "data": {
            "text/plain": [
              "dict_values([1, '대한', ['1234', '5678'], {'naver': 'naver', 'google': 'google', 'kakao': 'kakao'}])"
            ]
          },
          "metadata": {},
          "execution_count": 109
        }
      ]
    },
    {
      "cell_type": "code",
      "source": [
        "contact.items()\n",
        "# dict에서 (key, value) 튜플들의 리스트를 리턴."
      ],
      "metadata": {
        "colab": {
          "base_uri": "https://localhost:8080/"
        },
        "id": "b1FNgyGf5z_n",
        "outputId": "46751d41-e612-419f-b0b7-450e56f2ee14"
      },
      "execution_count": null,
      "outputs": [
        {
          "output_type": "execute_result",
          "data": {
            "text/plain": [
              "dict_items([('no', 1), ('name', '대한'), ('phones', ['1234', '5678']), ('emails', {'naver': 'naver', 'google': 'google', 'kakao': 'kakao'})])"
            ]
          },
          "metadata": {},
          "execution_count": 110
        }
      ]
    },
    {
      "cell_type": "code",
      "source": [
        "for k, v in contact.items():\n",
        "  print(k, v)"
      ],
      "metadata": {
        "colab": {
          "base_uri": "https://localhost:8080/"
        },
        "id": "aFHpJJ5159D_",
        "outputId": "aa64801a-23b8-443f-e9a2-9c347b87f50b"
      },
      "execution_count": null,
      "outputs": [
        {
          "output_type": "stream",
          "name": "stdout",
          "text": [
            "no 1\n",
            "name 대한\n",
            "phones ['1234', '5678']\n",
            "emails {'naver': 'naver', 'google': 'google', 'kakao': 'kakao'}\n"
          ]
        }
      ]
    },
    {
      "cell_type": "markdown",
      "source": [
        "## Dictionary Comprehension"
      ],
      "metadata": {
        "id": "Qopil9-2-92_"
      }
    },
    {
      "cell_type": "code",
      "source": [
        "emp_no = [1001, 1002, 2001, 2002] # 직원 번호\n",
        "emp_name = ['King', 'Scott', 'Allen', 'Tiger'] # 직원 이름"
      ],
      "metadata": {
        "id": "M5VwHD9q_GJQ"
      },
      "execution_count": null,
      "outputs": []
    },
    {
      "cell_type": "code",
      "source": [
        "# emp_no를 key로 하고 emp_name를 value로 dict를 만들고 출력\n",
        "\n",
        "emp = {} # key-value를 저장할 빈 dict\n",
        "for no, name in zip(emp_no, emp_name): # 리스트의 원소 개수만큼 반복\n",
        "  emp[no] = name # dic에 key-value 아이템을 저장\n",
        "emp"
      ],
      "metadata": {
        "colab": {
          "base_uri": "https://localhost:8080/"
        },
        "id": "KH3FJABo_soO",
        "outputId": "3f318ab7-714e-44bc-e746-175c10e08b11"
      },
      "execution_count": null,
      "outputs": [
        {
          "output_type": "execute_result",
          "data": {
            "text/plain": [
              "{1001: 'King', 1002: 'Scott', 2001: 'Allen', 2002: 'Tiger'}"
            ]
          },
          "metadata": {},
          "execution_count": 114
        }
      ]
    },
    {
      "cell_type": "code",
      "source": [
        "# dict-comprehension\n",
        "{no: name for no, name in zip(emp_no, emp_name)}"
      ],
      "metadata": {
        "colab": {
          "base_uri": "https://localhost:8080/"
        },
        "id": "J7FIhmYSBlsU",
        "outputId": "9acc0f0c-10e2-4b95-b1b9-71f22e51a8a7"
      },
      "execution_count": null,
      "outputs": [
        {
          "output_type": "execute_result",
          "data": {
            "text/plain": [
              "{1001: 'King', 1002: 'Scott', 2001: 'Allen', 2002: 'Tiger'}"
            ]
          },
          "metadata": {},
          "execution_count": 116
        }
      ]
    },
    {
      "cell_type": "code",
      "source": [
        "strings = ['hello', 'java', 'sql', 'python', 'javascript']\n",
        "# 리스트 strings의 문자열을 키로 하고, 그 문자열의 길이를 값으로 하는 dict를 만들고 출력"
      ],
      "metadata": {
        "id": "tjvl7YO1B6L_"
      },
      "execution_count": null,
      "outputs": []
    },
    {
      "cell_type": "code",
      "source": [
        "string_lengths = dict() # 빈 dict\n",
        "for s in strings: # strings에서 원소들을 차례로 반복하면서\n",
        "  string_lengths[s] = len(s) # 문자열(key) - 길이(value) 아이템을 dict에 추가\n",
        "string_lengths"
      ],
      "metadata": {
        "colab": {
          "base_uri": "https://localhost:8080/"
        },
        "id": "BGOIxqtCClV4",
        "outputId": "49f39b65-8b14-43a5-e498-5d73abdc8deb"
      },
      "execution_count": null,
      "outputs": [
        {
          "output_type": "execute_result",
          "data": {
            "text/plain": [
              "{'hello': 5, 'java': 4, 'sql': 3, 'python': 6, 'javascript': 10}"
            ]
          },
          "metadata": {},
          "execution_count": 122
        }
      ]
    },
    {
      "cell_type": "code",
      "source": [
        "{k: len(k) for k in strings}"
      ],
      "metadata": {
        "colab": {
          "base_uri": "https://localhost:8080/"
        },
        "id": "T7BzRQRcDnXk",
        "outputId": "698f4907-ed5a-4e14-ade6-018fc17e9537"
      },
      "execution_count": null,
      "outputs": [
        {
          "output_type": "execute_result",
          "data": {
            "text/plain": [
              "{'hello': 5, 'java': 4, 'sql': 3, 'python': 6, 'javascript': 10}"
            ]
          },
          "metadata": {},
          "execution_count": 123
        }
      ]
    },
    {
      "cell_type": "code",
      "source": [],
      "metadata": {
        "id": "fdaTs-c1D1ov"
      },
      "execution_count": null,
      "outputs": []
    }
  ]
}