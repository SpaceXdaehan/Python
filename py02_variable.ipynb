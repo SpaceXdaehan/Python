{
  "nbformat": 4,
  "nbformat_minor": 0,
  "metadata": {
    "colab": {
      "provenance": [],
      "toc_visible": true,
      "authorship_tag": "ABX9TyN04OowVwKF3G433E+cbM3q"
    },
    "kernelspec": {
      "name": "python3",
      "display_name": "Python 3"
    },
    "language_info": {
      "name": "python"
    }
  },
  "cells": [
    {
      "cell_type": "markdown",
      "source": [
        "# 파이썬 자료 타입\n",
        "\n",
        "* 숫자 타입\n",
        "  * `int`: 정수\n",
        "  * `float`: 실수\n",
        "* 문자열 타입\n",
        "  * `str`\n",
        "* 논리 타입\n",
        "  * `bool`: True / False 만 저장할 수 있음.\n",
        "* 객체 타입\n",
        "\n",
        "파이썬에서는 변수를 선언할 때 자료 타입을 명시하지 않음.\n",
        "\n",
        "\n",
        "변수의 자료 타입은 코드가 실행될 때 결정됨."
      ],
      "metadata": {
        "id": "MkstrFLGmi7R"
      }
    },
    {
      "cell_type": "code",
      "source": [
        "pi = 3.14\n",
        "print(pi)\n",
        "type(pi) # print(type(pi))"
      ],
      "metadata": {
        "colab": {
          "base_uri": "https://localhost:8080/"
        },
        "id": "T5chMTNwobq-",
        "outputId": "8a2eaf1e-8af3-4023-94fa-c97061976107"
      },
      "execution_count": null,
      "outputs": [
        {
          "output_type": "stream",
          "name": "stdout",
          "text": [
            "3.14\n"
          ]
        },
        {
          "output_type": "execute_result",
          "data": {
            "text/plain": [
              "float"
            ]
          },
          "metadata": {},
          "execution_count": 6
        }
      ]
    },
    {
      "cell_type": "markdown",
      "source": [
        "## 명시적 타입 변환\n",
        "\n",
        "* `int(arg)`: arg를 정수 타입으로 변환해서 리턴.\n",
        "* `float(arg)`: arg를 실수 타입으로 변환해서 리턴.\n",
        "* `str(arg)`: arg를 문자열로 변환해서 리턴."
      ],
      "metadata": {
        "id": "c6cXeMKAo4f2"
      }
    },
    {
      "cell_type": "code",
      "source": [
        "# Colab 노트북에서 콘솔 입력:\n",
        "n = input('정수 입력>>>')\n",
        "type(n)\n",
        "int(n) + 1 # 123 + 1\n",
        "n + srt(n)"
      ],
      "metadata": {
        "colab": {
          "base_uri": "https://localhost:8080/"
        },
        "id": "f6FAJ1OKpb9W",
        "outputId": "f8544cee-391a-46b9-d049-a1702934f0a4"
      },
      "execution_count": null,
      "outputs": [
        {
          "name": "stdout",
          "output_type": "stream",
          "text": [
            "정수 입력>>>123\n"
          ]
        },
        {
          "output_type": "execute_result",
          "data": {
            "text/plain": [
              "124"
            ]
          },
          "metadata": {},
          "execution_count": 18
        }
      ]
    },
    {
      "cell_type": "markdown",
      "source": [
        "# 산술 연산자\n",
        "\n",
        "`+, -, *, /, //, %, **`\n",
        "\n",
        "* `/`: 소수점까지 계산하는 나눗셈.\n",
        "* `//`: 나눈 몫.\n",
        "* `%`: 나눈 나머지를 계산.\n",
        "* `**`: 거듭제곱."
      ],
      "metadata": {
        "id": "XZ198SG0rLs-"
      }
    },
    {
      "cell_type": "code",
      "source": [
        "10 / 3"
      ],
      "metadata": {
        "colab": {
          "base_uri": "https://localhost:8080/"
        },
        "id": "dd57QtgVpiAm",
        "outputId": "1aeb01b1-20fe-4c88-ebe0-4f2e6ac2247c"
      },
      "execution_count": null,
      "outputs": [
        {
          "output_type": "execute_result",
          "data": {
            "text/plain": [
              "3.3333333333333335"
            ]
          },
          "metadata": {},
          "execution_count": 25
        }
      ]
    },
    {
      "cell_type": "code",
      "source": [
        "10 // 3"
      ],
      "metadata": {
        "colab": {
          "base_uri": "https://localhost:8080/"
        },
        "id": "I3fwh4nxr4WZ",
        "outputId": "658231a9-9982-43e7-dba1-30cc59f4303c"
      },
      "execution_count": null,
      "outputs": [
        {
          "output_type": "execute_result",
          "data": {
            "text/plain": [
              "3"
            ]
          },
          "metadata": {},
          "execution_count": 26
        }
      ]
    },
    {
      "cell_type": "code",
      "source": [
        "10 % 3"
      ],
      "metadata": {
        "colab": {
          "base_uri": "https://localhost:8080/"
        },
        "id": "Xol6qmVKsKyW",
        "outputId": "49e9d204-9ead-46ef-a602-b25badfdfdef"
      },
      "execution_count": null,
      "outputs": [
        {
          "output_type": "execute_result",
          "data": {
            "text/plain": [
              "1"
            ]
          },
          "metadata": {},
          "execution_count": 29
        }
      ]
    },
    {
      "cell_type": "code",
      "source": [
        "10 ** 3"
      ],
      "metadata": {
        "colab": {
          "base_uri": "https://localhost:8080/"
        },
        "id": "e2lRFpPQsNCr",
        "outputId": "50a2be8a-bf03-475a-c712-6ad8bf35e0a4"
      },
      "execution_count": null,
      "outputs": [
        {
          "output_type": "execute_result",
          "data": {
            "text/plain": [
              "1000"
            ]
          },
          "metadata": {},
          "execution_count": 28
        }
      ]
    },
    {
      "cell_type": "markdown",
      "source": [
        "# 비교 연산자, 논리 연산자\n",
        "\n",
        "* 비교 연산자: `==, !=, >, >=, <, <=`\n",
        "* 논리 연산자: `and, or, not`"
      ],
      "metadata": {
        "id": "G56EBalSsTRv"
      }
    },
    {
      "cell_type": "code",
      "source": [
        "x = 100\n",
        "\n",
        "(x > 50) and (x < 150)"
      ],
      "metadata": {
        "colab": {
          "base_uri": "https://localhost:8080/"
        },
        "id": "SDVeAPBusPFC",
        "outputId": "16545e10-fbb3-456c-aea9-2cba6b0488e8"
      },
      "execution_count": null,
      "outputs": [
        {
          "output_type": "execute_result",
          "data": {
            "text/plain": [
              "True"
            ]
          },
          "metadata": {},
          "execution_count": 30
        }
      ]
    },
    {
      "cell_type": "code",
      "source": [
        "(x < 50)"
      ],
      "metadata": {
        "colab": {
          "base_uri": "https://localhost:8080/"
        },
        "id": "eSRXrRDLstCW",
        "outputId": "ca8e45b8-a403-42e8-d74b-bd0b46924fc7"
      },
      "execution_count": null,
      "outputs": [
        {
          "output_type": "execute_result",
          "data": {
            "text/plain": [
              "False"
            ]
          },
          "metadata": {},
          "execution_count": 31
        }
      ]
    },
    {
      "cell_type": "code",
      "source": [
        "(x == 50)"
      ],
      "metadata": {
        "colab": {
          "base_uri": "https://localhost:8080/"
        },
        "id": "5GuQTx00swpr",
        "outputId": "5f70508e-1c1a-4b51-96dd-784a995f1cd2"
      },
      "execution_count": null,
      "outputs": [
        {
          "output_type": "execute_result",
          "data": {
            "text/plain": [
              "False"
            ]
          },
          "metadata": {},
          "execution_count": 32
        }
      ]
    },
    {
      "cell_type": "code",
      "source": [
        "50 < x < 150"
      ],
      "metadata": {
        "colab": {
          "base_uri": "https://localhost:8080/"
        },
        "id": "8k4LsgT5s0Ak",
        "outputId": "fc8f865c-db5f-4a18-bc1f-96a67e5991af"
      },
      "execution_count": null,
      "outputs": [
        {
          "output_type": "execute_result",
          "data": {
            "text/plain": [
              "True"
            ]
          },
          "metadata": {},
          "execution_count": 35
        }
      ]
    },
    {
      "cell_type": "code",
      "source": [
        "50 < x"
      ],
      "metadata": {
        "colab": {
          "base_uri": "https://localhost:8080/"
        },
        "id": "JRnGi8FCtAnL",
        "outputId": "2a19b973-ed85-48a3-bd3c-4b08d5245b13"
      },
      "execution_count": null,
      "outputs": [
        {
          "output_type": "execute_result",
          "data": {
            "text/plain": [
              "True"
            ]
          },
          "metadata": {},
          "execution_count": 36
        }
      ]
    }
  ]
}