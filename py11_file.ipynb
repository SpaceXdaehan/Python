{
  "nbformat": 4,
  "nbformat_minor": 0,
  "metadata": {
    "colab": {
      "provenance": [],
      "toc_visible": true,
      "mount_file_id": "1F1SEr0uG8960nLHdM9FitIKW8KWgRBbX",
      "authorship_tag": "ABX9TyP3t2vkX911k159bGNygl0w",
      "include_colab_link": true
    },
    "kernelspec": {
      "name": "python3",
      "display_name": "Python 3"
    },
    "language_info": {
      "name": "python"
    }
  },
  "cells": [
    {
      "cell_type": "markdown",
      "metadata": {
        "id": "view-in-github",
        "colab_type": "text"
      },
      "source": [
        "<a href=\"https://colab.research.google.com/github/SpaceXdaehan/Python/blob/main/py11_file.ipynb\" target=\"_parent\"><img src=\"https://colab.research.google.com/assets/colab-badge.svg\" alt=\"Open In Colab\"/></a>"
      ]
    },
    {
      "cell_type": "markdown",
      "source": [
        "# 파일쓰기(write)"
      ],
      "metadata": {
        "id": "yxym72JDRkQ6"
      }
    },
    {
      "cell_type": "markdown",
      "source": [
        "파일 쓰기 순서:\n",
        "1. 파일 열기(open)\n",
        "1. 파일 내용 쓰기(write)\n",
        "1. 파일 닫기(close)\n",
        "\n",
        "`open(file, mode='rt', ...)`: 첫번째 아규먼트는 파일이름\n",
        "* file: 폴더(디렉토리)를 포함한 파일 이름을 아규먼트로 넘김.\n",
        "* mode: 파일을 여는 방법(모드)\n",
        "  * r(read): 파일을 열 때 r을 주면 읽기모드 기본값. (읽기 전용은 파일을 변경할 수 없다) 기존 파일이 없으면 에러가 남. (FileNotFoundError)\n",
        "  * w(write): 쓰기모드 파일에 내용을 쓰는 것,\n",
        "    * write모드로 파일을 열면 이미 파일이 있으면 기존 내용이 모두 삭제되고, 파일의 처음부터 다시 쓰기 시작함.(기존 파일이 없어도 에러가 나지 않음)\n",
        "    * 파일이 없으면 새로운 파일을 생성하고 파일 쓰기가 됨.\n",
        "  * a(append): 이어쓰기모드, 기존 작성된 이후부터 이어서 쓰기.\n",
        "    * 파일이 있으면 기존 파일 뒤에 이어쓰기\n",
        "    * 파일이 없으면 새로운 파일를 생성하고 이어쓰기\n",
        "  * t(text): 텍스트(읽기 / 쓰기) 인코딩된 문자열을 읽고 쓰겠다. 기본값\n",
        "  * b(binary): 이진 데이터를 읽고 쓰겠다. Ex) 이미지, 동영상, ..."
      ],
      "metadata": {
        "id": "3EdaGHZRR7iZ"
      }
    },
    {
      "cell_type": "code",
      "execution_count": null,
      "metadata": {
        "id": "wjJ4gGZBRbZl"
      },
      "outputs": [],
      "source": [
        "# 1. 파일을 텍스트 쓰기 모드로 open:\n",
        "f = open('test1.txt', mode='wt')\n",
        "\n",
        "# 2. 파일 쓰기:\n",
        "f.write('123\\n')\n",
        "f.write('Hellow, python!\\n')\n",
        "f.write('Hi\\n')\n",
        "\n",
        "# 3. 파일 닫기:\n",
        "f.close()"
      ]
    },
    {
      "cell_type": "markdown",
      "source": [
        "# with ~ as 구문: 오픈된 리소스(파일)에서 close() 메서드를 자동으로 호출해줌."
      ],
      "metadata": {
        "id": "m5xvuOdjX3Xg"
      }
    },
    {
      "cell_type": "code",
      "source": [
        "with open('test2.txt', mode='wt') as f:\n",
        "  f.write('hello\\n')\n",
        "  f.write('Mon\\n')"
      ],
      "metadata": {
        "id": "ABrBa5trXR45"
      },
      "execution_count": null,
      "outputs": []
    },
    {
      "cell_type": "markdown",
      "source": [
        "# 파일 읽기\n",
        "`문자열.strip(): 문자열의 왼쪽과 오른쪽에 있는 공백 문자들(space, tab, 줄바꿈)을 제거해주는 메서드`"
      ],
      "metadata": {
        "id": "ZnnpV3ZtctCw"
      }
    },
    {
      "cell_type": "code",
      "source": [
        "with open('test1.txt', mode='rt') as f:\n",
        "  line = f.readline()\n",
        "  print(line.strip())\n",
        "  line = f.readline()\n",
        "  print(line.strip())\n",
        "  line = f.readline()\n",
        "  print(line.strip())"
      ],
      "metadata": {
        "colab": {
          "base_uri": "https://localhost:8080/"
        },
        "id": "SAX-Vw2TX495",
        "outputId": "8c211b2f-69ec-4d9d-a55f-f27322a24372"
      },
      "execution_count": null,
      "outputs": [
        {
          "output_type": "stream",
          "name": "stdout",
          "text": [
            "123\n",
            "Hellow, python!\n",
            "Hi\n"
          ]
        }
      ]
    },
    {
      "cell_type": "code",
      "source": [
        "with open('test2.txt', mode='rt') as f:\n",
        "  for line in f:\n",
        "    # 파일의 처음부터 끝까지 readline()을 호출\n",
        "    print(line.strip())"
      ],
      "metadata": {
        "colab": {
          "base_uri": "https://localhost:8080/"
        },
        "id": "KZoiQ_Znf-_o",
        "outputId": "9cb4a415-782d-4b47-83b7-b58c9110bcf5"
      },
      "execution_count": null,
      "outputs": [
        {
          "output_type": "stream",
          "name": "stdout",
          "text": [
            "hello\n",
            "Mon\n"
          ]
        }
      ]
    },
    {
      "cell_type": "markdown",
      "source": [
        "지금까지의 과정은 Google Colab에서 할당받은 가상머신(개발환경)의 하드디스크에 파일을 쓰고, 파일을 읽는 기능을 수행한 것임.\n",
        "\n",
        "Google Colab과 연결이 끊어진 후 재연결(가상머신 재할당)을 하면, 가상 머신의 모든 리소스(RAM, CPU, HDD, ...)들은 초기화 됨. 저장했던 파일들도 모두 삭제가됨.\n",
        "\n",
        "파일을 개인 구글 드라이브에 저장하고 읽는 방법이 제공됨."
      ],
      "metadata": {
        "id": "nabc3vSFgzUI"
      }
    },
    {
      "cell_type": "markdown",
      "source": [
        "# Colab 가상머신에서 구글 드라이브에 연결(Mount)"
      ],
      "metadata": {
        "id": "E3x5utSWh7QZ"
      }
    },
    {
      "cell_type": "code",
      "source": [
        "# 구글 드라이브 폴더 경로!\n",
        "dir_path='/content/drive/MyDrive/Colab Notebooks/lab_python'\n",
        "\n",
        "# 저장할 파일 이름\n",
        "file_name = 'test.txt'"
      ],
      "metadata": {
        "id": "FwMCaMr3jlno"
      },
      "execution_count": null,
      "outputs": []
    },
    {
      "cell_type": "code",
      "source": [
        "import os # os 모듈 임포트: os모듈에 os.path.join() 함수를 이용하기 위해"
      ],
      "metadata": {
        "id": "iStM17rfj6wF"
      },
      "execution_count": null,
      "outputs": []
    },
    {
      "cell_type": "code",
      "source": [
        "file = os.path.join(dir_path, file_name)\n",
        "file"
      ],
      "metadata": {
        "colab": {
          "base_uri": "https://localhost:8080/",
          "height": 35
        },
        "id": "P37UYfqJkLg9",
        "outputId": "03d9c988-be2d-495f-bf43-c273dd0be9b6"
      },
      "execution_count": null,
      "outputs": [
        {
          "output_type": "execute_result",
          "data": {
            "text/plain": [
              "'/content/drive/MyDrive/Colab Notebooks/lab_python/test.txt'"
            ],
            "application/vnd.google.colaboratory.intrinsic+json": {
              "type": "string"
            }
          },
          "metadata": {},
          "execution_count": 21
        }
      ]
    },
    {
      "cell_type": "code",
      "source": [
        "with open(file, mode='wt') as f:\n",
        "  f.write('daehan@test.com\\n')\n",
        "  f.write('python@itwill.com\\n')"
      ],
      "metadata": {
        "id": "doFfz1LGkQ9P"
      },
      "execution_count": null,
      "outputs": []
    },
    {
      "cell_type": "code",
      "source": [
        "with open(file, mode='rt') as f:\n",
        "  for line in f:\n",
        "    print(line.strip())"
      ],
      "metadata": {
        "colab": {
          "base_uri": "https://localhost:8080/"
        },
        "id": "lY_Z_wF8kmik",
        "outputId": "794ec487-fd64-4f48-cd2d-4f2e7040c8a7"
      },
      "execution_count": null,
      "outputs": [
        {
          "output_type": "stream",
          "name": "stdout",
          "text": [
            "daehan@test.com\n",
            "python@itwill.com\n"
          ]
        }
      ]
    },
    {
      "cell_type": "code",
      "source": [],
      "metadata": {
        "id": "w6upZmkdlMFJ"
      },
      "execution_count": null,
      "outputs": []
    }
  ]
}