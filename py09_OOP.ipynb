{
  "nbformat": 4,
  "nbformat_minor": 0,
  "metadata": {
    "colab": {
      "provenance": [],
      "toc_visible": true,
      "authorship_tag": "ABX9TyNic2p1BjAaNU6Nax0yUwcm",
      "include_colab_link": true
    },
    "kernelspec": {
      "name": "python3",
      "display_name": "Python 3"
    },
    "language_info": {
      "name": "python"
    }
  },
  "cells": [
    {
      "cell_type": "markdown",
      "metadata": {
        "id": "view-in-github",
        "colab_type": "text"
      },
      "source": [
        "<a href=\"https://colab.research.google.com/github/SpaceXdaehan/Python/blob/main/py09_OOP.ipynb\" target=\"_parent\"><img src=\"https://colab.research.google.com/assets/colab-badge.svg\" alt=\"Open In Colab\"/></a>"
      ]
    },
    {
      "cell_type": "markdown",
      "source": [
        "# 객체 지향 프로그래밍(OOP: Object Oriented Programing)"
      ],
      "metadata": {
        "id": "_4UB_2A90Ilv"
      }
    },
    {
      "cell_type": "code",
      "execution_count": null,
      "metadata": {
        "id": "PdwvZ0suzrnh"
      },
      "outputs": [],
      "source": [
        "class Student:\n",
        "  # 생성자 함수: 생성자를 호출하면 파이썬 인터프리터에 의해서 자동으로 호출되는 메서드.\n",
        "  # 실제 가지고 있는 아규먼트의 개수는 self뒤부터, self아규먼트에는 파이썬 인터프리터가 자동으로 채워줌.\n",
        "  def __init__(self, no, name, python, java, swift): # 맴버변수 초기화.\n",
        "    self.no = no\n",
        "    self.name = name\n",
        "    self.python = python\n",
        "    self.java = java\n",
        "    self.swift = swift\n",
        "  # 5개의 필드를 가지고 있는 객체가 생성됨.\n",
        "\n",
        "  def get_total(self):\n",
        "    # 파이썬의 메서드는 멤버들을 접근할 때 반드시 self 키워드를 사용해야함.\n",
        "    return self.python + self.java + self.swift\n",
        "\n",
        "  def get_average(self):\n",
        "    return self.get_total() / 3\n",
        "\n",
        "  def print_info(self):\n",
        "    print(f'Student(no={self.no}, name={self.name}, python={self.python}, java={self.java}, swift={self.swift})')"
      ]
    },
    {
      "cell_type": "code",
      "source": [
        "# Student 타입의 객체를 생성할 수 있음.\n",
        "# 파이썬에서는 new 키워드를 사용하지 않음, 클래스 이름을 함수처럼 호출하면 생성자를 호출함.\n",
        "# 생성자호출: 생성자 이름 = 클래스 이름()\n",
        "student1 = Student(1, '대한', 100, 90, 80)"
      ],
      "metadata": {
        "id": "fz7n0aqX145-"
      },
      "execution_count": null,
      "outputs": []
    },
    {
      "cell_type": "code",
      "source": [
        "print(student1) # 객체 student1을 문자열로 출력."
      ],
      "metadata": {
        "colab": {
          "base_uri": "https://localhost:8080/"
        },
        "id": "fqNe6SLK2bfd",
        "outputId": "1a1b309c-3beb-42f7-b956-7744ae01bdca"
      },
      "execution_count": null,
      "outputs": [
        {
          "output_type": "stream",
          "name": "stdout",
          "text": [
            "<__main__.Student object at 0x7f47b3fc07c0>\n"
          ]
        }
      ]
    },
    {
      "cell_type": "code",
      "source": [
        "student1 # 객체 student1의 식(expression)을 출력."
      ],
      "metadata": {
        "colab": {
          "base_uri": "https://localhost:8080/"
        },
        "id": "JIBReuTj3aHb",
        "outputId": "58015aa2-cd44-4726-9dd4-3cc4dcdfff20"
      },
      "execution_count": null,
      "outputs": [
        {
          "output_type": "execute_result",
          "data": {
            "text/plain": [
              "<__main__.Student at 0x7f47b3fc07c0>"
            ]
          },
          "metadata": {},
          "execution_count": 41
        }
      ]
    },
    {
      "cell_type": "code",
      "source": [
        "student1.python"
      ],
      "metadata": {
        "colab": {
          "base_uri": "https://localhost:8080/"
        },
        "id": "mL7ZIiBl8IIG",
        "outputId": "62f28470-536d-48e8-b1d9-e93db361d3dd"
      },
      "execution_count": null,
      "outputs": [
        {
          "output_type": "execute_result",
          "data": {
            "text/plain": [
              "100"
            ]
          },
          "metadata": {},
          "execution_count": 42
        }
      ]
    },
    {
      "cell_type": "code",
      "source": [
        "student1.get_total()"
      ],
      "metadata": {
        "colab": {
          "base_uri": "https://localhost:8080/"
        },
        "id": "3v7m0tr74svD",
        "outputId": "7cb51841-aab3-4004-bc90-96e94fcf66c0"
      },
      "execution_count": null,
      "outputs": [
        {
          "output_type": "execute_result",
          "data": {
            "text/plain": [
              "270"
            ]
          },
          "metadata": {},
          "execution_count": 43
        }
      ]
    },
    {
      "cell_type": "code",
      "source": [
        "student1.get_average()"
      ],
      "metadata": {
        "colab": {
          "base_uri": "https://localhost:8080/"
        },
        "id": "5eRZqmsD5gBM",
        "outputId": "d85b8298-c7d7-44be-8865-f901a28db363"
      },
      "execution_count": null,
      "outputs": [
        {
          "output_type": "execute_result",
          "data": {
            "text/plain": [
              "90.0"
            ]
          },
          "metadata": {},
          "execution_count": 44
        }
      ]
    },
    {
      "cell_type": "code",
      "source": [
        "student1.print_info()"
      ],
      "metadata": {
        "colab": {
          "base_uri": "https://localhost:8080/"
        },
        "id": "VvMJaGXb9Lmn",
        "outputId": "bbbf33af-6faf-48c5-b500-a152ebfd4036"
      },
      "execution_count": null,
      "outputs": [
        {
          "output_type": "stream",
          "name": "stdout",
          "text": [
            "Student(no=1, name=대한, python=100, java=90, swift=80)\n"
          ]
        }
      ]
    },
    {
      "cell_type": "markdown",
      "source": [
        "* class: Pont\n",
        "  * 2차원 평면의 점의 좌표 (x, y)를 표현하는 클래스\n",
        "* 생성자 함수: x, y를 초기화. x, y의 기본 값은 0.\n",
        "* 메서드\n",
        "  * move: 점의 좌표를 원래 위치에서 dx, dy 만큼 이동시키는 메서드.\n",
        "  * distance: 현재 점의 위치에서 다른 점까지의 거리를 계산해서 리턴하는 메서드.\n",
        "    * `sqrt((x1 - x2) **2 + (y1 - y2) **2)`\n",
        ">>> $ \\sqrt{}$"
      ],
      "metadata": {
        "id": "7ksTsxuTB7Ru"
      }
    },
    {
      "cell_type": "code",
      "source": [
        "import math\n",
        "# math 모듈을 임포트 -> math.sqrt()"
      ],
      "metadata": {
        "id": "P3tdVc9d9P7C"
      },
      "execution_count": null,
      "outputs": []
    },
    {
      "cell_type": "code",
      "source": [
        "class Point:\n",
        "  def __init__(self, x=0, y=0):\n",
        "    self.x = x\n",
        "    self.y = y\n",
        "\n",
        "  def move(self, dx, dy):\n",
        "    self.x += dx\n",
        "    self.y += dy\n",
        "\n",
        "  def distance(self, pt):\n",
        "    return math.sqrt((self.x - pt.x) **2 + (self.y - pt.y) **2)"
      ],
      "metadata": {
        "id": "jioMMUPHB3wW"
      },
      "execution_count": null,
      "outputs": []
    },
    {
      "cell_type": "code",
      "source": [
        "pt1 = Point() # 생성자 함수의 default argument 사용\n",
        "pt1"
      ],
      "metadata": {
        "colab": {
          "base_uri": "https://localhost:8080/"
        },
        "id": "0Bm9tK-nB1a8",
        "outputId": "b448d2dd-eab8-456f-bfd5-0a0e027ae6d3"
      },
      "execution_count": null,
      "outputs": [
        {
          "output_type": "execute_result",
          "data": {
            "text/plain": [
              "<__main__.Point at 0x7f47d8ffda50>"
            ]
          },
          "metadata": {},
          "execution_count": 56
        }
      ]
    },
    {
      "cell_type": "code",
      "source": [
        "print(f'x={pt1.x}, y={pt1.y}')"
      ],
      "metadata": {
        "colab": {
          "base_uri": "https://localhost:8080/"
        },
        "id": "tpgEqXyEEiLa",
        "outputId": "8b189494-7130-4b32-d192-8bc312ebe803"
      },
      "execution_count": null,
      "outputs": [
        {
          "output_type": "stream",
          "name": "stdout",
          "text": [
            "x=0, y=0\n"
          ]
        }
      ]
    },
    {
      "cell_type": "code",
      "source": [
        "pt1.move(1, 1)\n",
        "print(f'x={pt1.x}, y={pt1.y}')"
      ],
      "metadata": {
        "colab": {
          "base_uri": "https://localhost:8080/"
        },
        "id": "HMK8V_o4Ih5H",
        "outputId": "93b1c318-d063-432a-b8c8-a3781fae418d"
      },
      "execution_count": null,
      "outputs": [
        {
          "output_type": "stream",
          "name": "stdout",
          "text": [
            "x=5, y=5\n"
          ]
        }
      ]
    },
    {
      "cell_type": "code",
      "source": [
        "pt2 = Point(1, 2)\n",
        "print(f'x={pt2.x}, y={pt2.y}')"
      ],
      "metadata": {
        "colab": {
          "base_uri": "https://localhost:8080/"
        },
        "id": "anV5OmjlI-Wd",
        "outputId": "7293b7a7-1181-44d0-e721-b308365936ec"
      },
      "execution_count": null,
      "outputs": [
        {
          "output_type": "stream",
          "name": "stdout",
          "text": [
            "x=1, y=2\n"
          ]
        }
      ]
    },
    {
      "cell_type": "code",
      "source": [
        "pt1.distance(pt2)"
      ],
      "metadata": {
        "colab": {
          "base_uri": "https://localhost:8080/"
        },
        "id": "esjCDoqsJK2J",
        "outputId": "f634d167-6327-4c2e-a8c7-ac8e2c1dd17a"
      },
      "execution_count": null,
      "outputs": [
        {
          "output_type": "execute_result",
          "data": {
            "text/plain": [
              "5.0"
            ]
          },
          "metadata": {},
          "execution_count": 71
        }
      ]
    },
    {
      "cell_type": "markdown",
      "source": [
        "# magic method"
      ],
      "metadata": {
        "id": "labxOU18OWOc"
      }
    },
    {
      "cell_type": "markdown",
      "source": [
        "파이썬의 모든 클래스가 같은 이름으로 가지고 있는 특별한 메서드.\n",
        "\n",
        "특별한 경우에 파이썬 인터프리터에 의해서 자동으로 호출되는 메서드.\n",
        "\n",
        "* `__init__()`:\n",
        " * 생성자를 호출하면 자동으로 호출되는 init메서드.\n",
        " * 인스턴스의 필드(프로퍼티)들을 선언하고 초기화 하는 메서드.\n",
        "\n",
        "* `__str__()`:\n",
        "  * print() 함수의 아규먼트 객체일 떄 자동으로 호출되는 메서드.\n",
        "  * 문자열을 리턴하는 메서드.\n",
        "\n",
        "* `__repr__()`: representation(표현).\n",
        "  * 식(expresstion)을 출력할 때 자동으로 호출되는 메서드.\n",
        "  * `print()` 함수의 동작 방식:\n",
        "    * 객체를 출력하기 위해서, 그 객체의 `__str__()`메서드를 호출함.\n",
        "    * `__str__()` 메서드가 없는 경우에는, `__repr__()`메서드를 호출함.\n",
        "    * `__str__()` 메서드와 `__repr__()`메서드 모두 없는 경우에는 기본 문자열 (object at 0x...)로 출력.\n",
        "\n"
      ],
      "metadata": {
        "id": "HIvpirXcOxs8"
      }
    },
    {
      "cell_type": "code",
      "source": [
        "class T:\n",
        "  def __str__(self):\n",
        "    return 'class T instance'\n",
        "\n",
        "  def __repr__(self):\n",
        "    return '너 T야?'"
      ],
      "metadata": {
        "id": "yEcIPLT3Jrtt"
      },
      "execution_count": null,
      "outputs": []
    },
    {
      "cell_type": "code",
      "source": [
        "t = T() # 생성자 호출 -> __init__() 메서드 호출."
      ],
      "metadata": {
        "id": "JyT27pq3R0Wv"
      },
      "execution_count": null,
      "outputs": []
    },
    {
      "cell_type": "code",
      "source": [
        "print(t) # __str__() 메서드 자동으로 호출."
      ],
      "metadata": {
        "colab": {
          "base_uri": "https://localhost:8080/"
        },
        "id": "vJE0NHO3R8vk",
        "outputId": "20a50402-6797-41a4-a790-852061dbed8b"
      },
      "execution_count": null,
      "outputs": [
        {
          "output_type": "stream",
          "name": "stdout",
          "text": [
            "class T instance\n"
          ]
        }
      ]
    },
    {
      "cell_type": "code",
      "source": [
        "t # __repr__() 메서드 자동 호출."
      ],
      "metadata": {
        "colab": {
          "base_uri": "https://localhost:8080/"
        },
        "id": "F8uJtxCwR-k2",
        "outputId": "c1b97d7e-f5a7-4cb2-ac9a-bdbe59459b55"
      },
      "execution_count": null,
      "outputs": [
        {
          "output_type": "execute_result",
          "data": {
            "text/plain": [
              "너 T야?"
            ]
          },
          "metadata": {},
          "execution_count": 90
        }
      ]
    },
    {
      "cell_type": "markdown",
      "source": [
        "* `__eq__()`:\n",
        "  * `==` 비교 연산자를 사용했을 때 자동으로 호출되는 메서드.\n",
        "  * 두 객체가 같은 지(True) 다른 지(False)를 리턴.\n",
        "  "
      ],
      "metadata": {
        "id": "aL95kcaLT5r8"
      }
    },
    {
      "cell_type": "code",
      "source": [
        "list1 = [1, 2, 3]\n",
        "list2 = [1, 2, 3]\n",
        "list1 == list2 # list 클래스가 __eq__ 메서드를 구현하고 있기 때문에."
      ],
      "metadata": {
        "colab": {
          "base_uri": "https://localhost:8080/"
        },
        "id": "Bw1TtLIQSDvI",
        "outputId": "4a8b386e-b8ec-409d-ad95-0acd1bf5936f"
      },
      "execution_count": null,
      "outputs": [
        {
          "output_type": "execute_result",
          "data": {
            "text/plain": [
              "True"
            ]
          },
          "metadata": {},
          "execution_count": 93
        }
      ]
    },
    {
      "cell_type": "code",
      "source": [
        "class Number:\n",
        "  def __init__(self, n):\n",
        "    self.n = n\n",
        "\n",
        "  def __repr__(self):\n",
        "    return str(self.n)\n",
        "\n",
        "  def __eq__(self, other):\n",
        "    return self.n == other.n"
      ],
      "metadata": {
        "id": "knoUX-pVUuh2"
      },
      "execution_count": null,
      "outputs": []
    },
    {
      "cell_type": "code",
      "source": [
        "n1 = Number(1)\n",
        "n1"
      ],
      "metadata": {
        "colab": {
          "base_uri": "https://localhost:8080/"
        },
        "id": "tXXASEiXVwcM",
        "outputId": "0c527804-069d-431a-a075-005821ae4b74"
      },
      "execution_count": null,
      "outputs": [
        {
          "output_type": "execute_result",
          "data": {
            "text/plain": [
              "1"
            ]
          },
          "metadata": {},
          "execution_count": 99
        }
      ]
    },
    {
      "cell_type": "code",
      "source": [
        "n2 = Number(1)\n",
        "n2"
      ],
      "metadata": {
        "colab": {
          "base_uri": "https://localhost:8080/"
        },
        "id": "pSjik0R1VzfK",
        "outputId": "b5bcc846-391c-4b0e-a30a-de1d337ac845"
      },
      "execution_count": null,
      "outputs": [
        {
          "output_type": "execute_result",
          "data": {
            "text/plain": [
              "1"
            ]
          },
          "metadata": {},
          "execution_count": 100
        }
      ]
    },
    {
      "cell_type": "code",
      "source": [
        "n1 == n2 # n1.__eq__(n2)"
      ],
      "metadata": {
        "colab": {
          "base_uri": "https://localhost:8080/"
        },
        "id": "iJHRq5QWV80y",
        "outputId": "7220af92-980b-4bb5-d9bc-a20aa7dc103e"
      },
      "execution_count": null,
      "outputs": [
        {
          "output_type": "execute_result",
          "data": {
            "text/plain": [
              "True"
            ]
          },
          "metadata": {},
          "execution_count": 101
        }
      ]
    },
    {
      "cell_type": "markdown",
      "source": [
        "# Exercise\n",
        "\n",
        "* class Score\n",
        "  * 프로퍼티: korean, math, science(int 타입)\n",
        "  * 메서드: `__init__()`, `__repr__()`, `__eq__()`, `get_total`, `get_mean`\n",
        "\n",
        "* class Student\n",
        "  * 프로퍼티: no(int), name(str), score(Score)\n",
        "  * 메서드: `__init__()`, `__repr__()`"
      ],
      "metadata": {
        "id": "Dh_mGgS5oEdB"
      }
    },
    {
      "cell_type": "code",
      "source": [
        "class Score:\n",
        "\n",
        "  def __init__(self, korean=0, math=0, science=0):\n",
        "    self.korean = korean\n",
        "    self.math = math\n",
        "    self.science = science\n",
        "\n",
        "  def __repr__(self):\n",
        "    return f'korean={self.korean}, math={self.math}, science={self.science}'\n",
        "\n",
        "  def __eq__(self, other):\n",
        "    return (self.korean == other.korean and\n",
        "            self.math == other.math and\n",
        "            self.science == other.science)\n",
        "\n",
        "  def get_total(self):\n",
        "    return self.korean + self.math + self.science\n",
        "\n",
        "  def get_mean(self):\n",
        "    return self.get_total() / 3\n",
        "\n",
        "  def print_info(self):\n",
        "    print(f'korean={self.korean}, math={self.math}, science={self.science}')"
      ],
      "metadata": {
        "id": "RD7t6oOKWDsH"
      },
      "execution_count": null,
      "outputs": []
    },
    {
      "cell_type": "code",
      "source": [
        "s = Score(100, 90, 80)"
      ],
      "metadata": {
        "id": "vG9xHlwZqMgp"
      },
      "execution_count": null,
      "outputs": []
    },
    {
      "cell_type": "code",
      "source": [
        "s.get_total()"
      ],
      "metadata": {
        "colab": {
          "base_uri": "https://localhost:8080/"
        },
        "id": "eNZHgcY2qcsB",
        "outputId": "189e5fc8-ba55-4ff2-c020-7df1169384cf"
      },
      "execution_count": null,
      "outputs": [
        {
          "output_type": "execute_result",
          "data": {
            "text/plain": [
              "270"
            ]
          },
          "metadata": {},
          "execution_count": 149
        }
      ]
    },
    {
      "cell_type": "code",
      "source": [
        "s.get_mean()"
      ],
      "metadata": {
        "colab": {
          "base_uri": "https://localhost:8080/"
        },
        "id": "mhLWMzzEqpQw",
        "outputId": "0632a72b-0fde-4254-88b3-046520b3c3dd"
      },
      "execution_count": null,
      "outputs": [
        {
          "output_type": "execute_result",
          "data": {
            "text/plain": [
              "90.0"
            ]
          },
          "metadata": {},
          "execution_count": 150
        }
      ]
    },
    {
      "cell_type": "code",
      "source": [
        "s1 = Score(math=100) # 아규먼트에 기본 값을 설정해 놔서 수정할 수 있는 과목의 점수만 선택해서 줄 수 있음\n",
        "s1"
      ],
      "metadata": {
        "colab": {
          "base_uri": "https://localhost:8080/"
        },
        "id": "5WX8NbwqxGfg",
        "outputId": "c8dcf163-b791-4c0d-86be-4134350b376d"
      },
      "execution_count": null,
      "outputs": [
        {
          "output_type": "execute_result",
          "data": {
            "text/plain": [
              "korean=0, math=100, science=0"
            ]
          },
          "metadata": {},
          "execution_count": 151
        }
      ]
    },
    {
      "cell_type": "code",
      "source": [
        "s.print_info()"
      ],
      "metadata": {
        "colab": {
          "base_uri": "https://localhost:8080/"
        },
        "id": "4yRDDveTq-g6",
        "outputId": "3128bb90-a0bc-4067-a1f0-e55eeb232804"
      },
      "execution_count": null,
      "outputs": [
        {
          "output_type": "stream",
          "name": "stdout",
          "text": [
            "korean=100, math=90, science=80\n"
          ]
        }
      ]
    },
    {
      "cell_type": "code",
      "source": [
        "s == s1"
      ],
      "metadata": {
        "colab": {
          "base_uri": "https://localhost:8080/"
        },
        "id": "Qf_UEeucyFMw",
        "outputId": "37581f06-ac78-40ee-a260-3e09ee3b4ed5"
      },
      "execution_count": null,
      "outputs": [
        {
          "output_type": "execute_result",
          "data": {
            "text/plain": [
              "False"
            ]
          },
          "metadata": {},
          "execution_count": 153
        }
      ]
    },
    {
      "cell_type": "code",
      "source": [
        "s2 = Score(math = 100)\n",
        "s1 == s2"
      ],
      "metadata": {
        "colab": {
          "base_uri": "https://localhost:8080/"
        },
        "id": "OMbgFLNzyJf_",
        "outputId": "ec1e5161-943f-4daa-ef31-62e2ef6fffff"
      },
      "execution_count": null,
      "outputs": [
        {
          "output_type": "execute_result",
          "data": {
            "text/plain": [
              "True"
            ]
          },
          "metadata": {},
          "execution_count": 154
        }
      ]
    },
    {
      "cell_type": "code",
      "source": [
        "class Student:\n",
        "\n",
        "  def __init__(self, no, name, score):\n",
        "    self.no = no\n",
        "    self.name = name\n",
        "    self.score = score\n",
        "\n",
        "  def __repr__(self):\n",
        "    return f'Student no={self.no}, name={self.name}, score={self.score} '"
      ],
      "metadata": {
        "id": "RoOJexm-plEc"
      },
      "execution_count": null,
      "outputs": []
    },
    {
      "cell_type": "code",
      "source": [
        "stu = Student(1, 'daehan', s)\n",
        "stu"
      ],
      "metadata": {
        "colab": {
          "base_uri": "https://localhost:8080/"
        },
        "id": "4Vgfg-y80BHK",
        "outputId": "1962737b-7d59-4aec-a366-b187c4c6929a"
      },
      "execution_count": null,
      "outputs": [
        {
          "output_type": "execute_result",
          "data": {
            "text/plain": [
              "Student no=1, name=daehan, score=korean=100, math=90, science=80 "
            ]
          },
          "metadata": {},
          "execution_count": 156
        }
      ]
    },
    {
      "cell_type": "code",
      "source": [
        "stu1 = Student(2, 'han', Score())\n",
        "stu1"
      ],
      "metadata": {
        "colab": {
          "base_uri": "https://localhost:8080/"
        },
        "id": "dzSCh1Br0Hzf",
        "outputId": "96e4505a-61e1-49d0-80cd-f5f30d7dbc7e"
      },
      "execution_count": null,
      "outputs": [
        {
          "output_type": "execute_result",
          "data": {
            "text/plain": [
              "Student no=2, name=han, score=korean=0, math=0, science=0 "
            ]
          },
          "metadata": {},
          "execution_count": 157
        }
      ]
    },
    {
      "cell_type": "code",
      "source": [
        "stu.score == stu1.score\n",
        "# 위의 코드는 stu.score.__eq__(stu1.score)"
      ],
      "metadata": {
        "colab": {
          "base_uri": "https://localhost:8080/"
        },
        "id": "pYhtZdFp0WlK",
        "outputId": "9e54c395-4288-45e9-c480-a15a53404daa"
      },
      "execution_count": null,
      "outputs": [
        {
          "output_type": "execute_result",
          "data": {
            "text/plain": [
              "False"
            ]
          },
          "metadata": {},
          "execution_count": 158
        }
      ]
    },
    {
      "cell_type": "markdown",
      "source": [
        "# 상속(Inheritance)"
      ],
      "metadata": {
        "id": "2baaeLTd592R"
      }
    },
    {
      "cell_type": "markdown",
      "source": [
        "* super class(상위 클래스), parent class(부모 클래스), base class(기본 클래스)\n",
        "* sub class(하위 클래스), child class(자식 클래스), derived class(유도 클래스)\n",
        "* 상속: 상위 클래스의 속성(데이터)들과 기능(메서드)들을 하위 클래스에서 재상용하는 것.\n",
        "* 일반적으로 **Is-A** 관계가 성립하는 객체들을 상속을 사용해서 구현함.\n",
        "  * 학생은 사람이다(Student Is A Person)"
      ],
      "metadata": {
        "id": "6JH0H1DW6Ewe"
      }
    },
    {
      "cell_type": "code",
      "source": [
        "class Person:\n",
        "  def __init__(self, name, age=0): # defult 아규먼트들은 뒤쪽에 위치.\n",
        "    self.name = name\n",
        "    self.age = age\n",
        "\n",
        "  def hello(self):\n",
        "    print(f'안녕하세요, 저는 {self.name} 입니다. 나이는 {self.age} 입니다.')"
      ],
      "metadata": {
        "id": "YkGD5A-80qIg"
      },
      "execution_count": null,
      "outputs": []
    },
    {
      "cell_type": "code",
      "source": [
        "daehan = Person('daehan')\n",
        "daehan.hello()"
      ],
      "metadata": {
        "colab": {
          "base_uri": "https://localhost:8080/"
        },
        "id": "f1F86sW18h0v",
        "outputId": "bf7ef878-6969-4d8f-9865-67139583f7ef"
      },
      "execution_count": null,
      "outputs": [
        {
          "output_type": "stream",
          "name": "stdout",
          "text": [
            "안녕하세요, 저는 daehan 입니다. 나이는 0 입니다.\n"
          ]
        }
      ]
    },
    {
      "cell_type": "code",
      "source": [
        "# Person을 상속하는 Student 클래스\n",
        "class Student(Person):\n",
        "\n",
        "  # 생성자 method override\n",
        "  def __init__(self, name, age=1, school='Test'):\n",
        "    # 하위 클래스에서 상위 클래스의 생성자 함수를 호출.\n",
        "    super().__init__(name, age)\n",
        "    self.school = school\n",
        "\n",
        "  # hello method override\n",
        "  def hello(self):\n",
        "    super().hello()\n",
        "    print(f'학교는 {self.school}')"
      ],
      "metadata": {
        "id": "8jsKR51B8pVU"
      },
      "execution_count": null,
      "outputs": []
    },
    {
      "cell_type": "code",
      "source": [
        "stu = Student('lion')"
      ],
      "metadata": {
        "id": "yH9nJy7q9DRw"
      },
      "execution_count": null,
      "outputs": []
    },
    {
      "cell_type": "code",
      "source": [
        "stu.hello()"
      ],
      "metadata": {
        "colab": {
          "base_uri": "https://localhost:8080/"
        },
        "id": "X21qLpIP9g4Z",
        "outputId": "60aaa644-e84c-4f28-a60f-d81e907e185d"
      },
      "execution_count": null,
      "outputs": [
        {
          "output_type": "stream",
          "name": "stdout",
          "text": [
            "안녕하세요, 저는 lion 입니다. 나이는 1 입니다.\n",
            "학교는 Test\n"
          ]
        }
      ]
    },
    {
      "cell_type": "markdown",
      "source": [
        "# Method Override\n",
        "\n",
        "* 상위 클래스의 메서드를 하위 클래스에서 재정의하는 것.\n",
        "  * 파이썬에서는 메서드의 이름만 같으면 (파라미터 타입/개수와 상관 없이) 메서드가 재정의됨.\n",
        "    * 파이썬은 같은 이름으로 2개 이상의 메서드(함수)를 가질 수 없음 - overloading은 제공하지 않음.\n",
        "  * 자바에서는 메서드 이름, 파라미터 타입/개수/순서가 모두 동일한 경우에 메서드가 재정의됨.\n",
        "    * 파라미터가 다르면 같은 이름의 메서드가 2개 이상 있을 수 있음 - overloading\n",
        "* 하위 클래스에서 재정의(overrid)된 상위 클래스의 메서드를 명시적으로 호출하기 위해서는 super().method_name(...)의 형식으로 호출함."
      ],
      "metadata": {
        "id": "UoPyMsUHExLm"
      }
    },
    {
      "cell_type": "code",
      "source": [
        "def a():\n",
        "  print('a')"
      ],
      "metadata": {
        "id": "UhtZo8Uw9hZb"
      },
      "execution_count": null,
      "outputs": []
    },
    {
      "cell_type": "code",
      "source": [
        "def a(msg):\n",
        "  print(msg)"
      ],
      "metadata": {
        "id": "77MAXSWXFc4l"
      },
      "execution_count": null,
      "outputs": []
    },
    {
      "cell_type": "code",
      "source": [
        "a() # 오류"
      ],
      "metadata": {
        "colab": {
          "base_uri": "https://localhost:8080/",
          "height": 173
        },
        "id": "rgAoCxYTFfTF",
        "outputId": "9a790941-1bda-465d-eb12-df4043f8611d"
      },
      "execution_count": null,
      "outputs": [
        {
          "output_type": "error",
          "ename": "TypeError",
          "evalue": "ignored",
          "traceback": [
            "\u001b[0;31m---------------------------------------------------------------------------\u001b[0m",
            "\u001b[0;31mTypeError\u001b[0m                                 Traceback (most recent call last)",
            "\u001b[0;32m<ipython-input-190-8d7b4527e81d>\u001b[0m in \u001b[0;36m<cell line: 1>\u001b[0;34m()\u001b[0m\n\u001b[0;32m----> 1\u001b[0;31m \u001b[0ma\u001b[0m\u001b[0;34m(\u001b[0m\u001b[0;34m)\u001b[0m\u001b[0;34m\u001b[0m\u001b[0;34m\u001b[0m\u001b[0m\n\u001b[0m",
            "\u001b[0;31mTypeError\u001b[0m: a() missing 1 required positional argument: 'msg'"
          ]
        }
      ]
    },
    {
      "cell_type": "markdown",
      "source": [
        "파이썬은 함수(메서드) 오버로딩을 제공하지 않음.\n",
        "\n",
        "파라미터가 다르다고 해서 같은 이름으로 함수(메서드)를 정의할 수 없다.\n",
        "\n",
        "같은 이름으로 함수를 정의하면, 가장 마지막에서 정의한 함수만 남음.\n",
        "\n",
        "파이썬은 함수(메서드) 오버로딩 대신에, default argument를 이용하면, 같은 이름의 함수를 여러가지 방법으로 호출할 수 있음."
      ],
      "metadata": {
        "id": "q8jrC2xuGD_O"
      }
    },
    {
      "cell_type": "code",
      "source": [
        "def a(msg='a'):\n",
        "  print(msg)"
      ],
      "metadata": {
        "id": "UXSkkmB3Ff9x"
      },
      "execution_count": null,
      "outputs": []
    },
    {
      "cell_type": "code",
      "source": [
        "a()"
      ],
      "metadata": {
        "colab": {
          "base_uri": "https://localhost:8080/"
        },
        "id": "-WlFRx37Gvli",
        "outputId": "cbf18b4d-93a0-4372-d763-f4ef29fbfb9a"
      },
      "execution_count": null,
      "outputs": [
        {
          "output_type": "stream",
          "name": "stdout",
          "text": [
            "a\n"
          ]
        }
      ]
    },
    {
      "cell_type": "code",
      "source": [
        "a('TEST')"
      ],
      "metadata": {
        "colab": {
          "base_uri": "https://localhost:8080/"
        },
        "id": "Z5AdebiEGv8u",
        "outputId": "2fa4d34c-a86c-4f39-92e2-9019e2215f88"
      },
      "execution_count": null,
      "outputs": [
        {
          "output_type": "stream",
          "name": "stdout",
          "text": [
            "TEST\n"
          ]
        }
      ]
    },
    {
      "cell_type": "code",
      "source": [],
      "metadata": {
        "id": "hhqU4XO5GxpH"
      },
      "execution_count": null,
      "outputs": []
    }
  ]
}